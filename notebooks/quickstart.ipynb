{
 "cells": [
  {
   "cell_type": "markdown",
   "metadata": {},
   "source": [
    "# Quickstart: Using the Speech Service from Python"
   ]
  },
  {
   "cell_type": "markdown",
   "metadata": {},
   "source": [
    "## Get the Speech SDK Python Package\n",
    "\n",
    "Run the following command to install the Cognitive Services Speech SDK Python package:\n",
    "\n",
    "```pip install azure-cognitiveservices-speech```"
   ]
  },
  {
   "cell_type": "markdown",
   "metadata": {},
   "source": [
    "## Download the PriMock57 Dataset\n",
    "\n",
    "We will be using the [PriMock57 dataset](https://github.com/babylonhealth/primock57/tree/main) for testing the relevant evaluation metrics.\n",
    "\n",
    "We store the transcription texts as `.TextGrid` files, which requires the used of the `textgrid` Python library. This can be installed by running the following command:\n",
    "\n",
    "`pip install textgrid`\n",
    "\n",
    "We define some helper functions for ingesting the data using above downloaded formats."
   ]
  },
  {
   "cell_type": "code",
   "execution_count": 30,
   "metadata": {},
   "outputs": [],
   "source": [
    "import re\n",
    "import textgrid\n",
    "\n",
    "def extract_text_from_textgrid(file_path, tier_name=None):\n",
    "    # Load the TextGrid file\n",
    "    tg = textgrid.TextGrid.fromFile(file_path)\n",
    "    \n",
    "    # Find the relevant tier (if tier_name is provided)\n",
    "    if tier_name:\n",
    "        tier = tg.getFirst(tier_name)\n",
    "    else:\n",
    "        # If no specific tier is mentioned, extract from the first tier\n",
    "        tier = tg[0]\n",
    "\n",
    "    # Extract the intervals with text and concatenate them\n",
    "    extracted_text = []\n",
    "    for interval in tier:\n",
    "        if interval.mark.strip():  # Only consider non-empty intervals\n",
    "            extracted_text.append(interval.mark)\n",
    "    \n",
    "    # Return all the concatenated text\n",
    "    return \" \".join(extracted_text)\n",
    "\n",
    "def remove_intents(text):\n",
    "    \"\"\"\n",
    "    Remove intents marked by <UNSURE>, <UNIN/>, etc. from the text.\n",
    "    \"\"\"\n",
    "    # Regular expression pattern to match any text within angle brackets including the brackets\n",
    "    pattern = r'<[^>]*>'\n",
    "    # Use re.sub to replace matches with an empty string\n",
    "    cleaned_text = re.sub(pattern, '', text)\n",
    "    # Optionally, you can remove extra spaces left after removing tags\n",
    "    cleaned_text = re.sub(r'\\s+', ' ', cleaned_text).strip()\n",
    "    return cleaned_text"
   ]
  },
  {
   "cell_type": "markdown",
   "metadata": {},
   "source": [
    "## Speech Recognition Using the Speech SDK"
   ]
  },
  {
   "cell_type": "markdown",
   "metadata": {},
   "source": [
    "We import the relevant libraries for using Speech SDK."
   ]
  },
  {
   "cell_type": "code",
   "execution_count": 17,
   "metadata": {},
   "outputs": [
    {
     "data": {
      "text/plain": [
       "True"
      ]
     },
     "execution_count": 17,
     "metadata": {},
     "output_type": "execute_result"
    }
   ],
   "source": [
    "import os\n",
    "import time\n",
    "from dotenv import load_dotenv\n",
    "import azure.cognitiveservices.speech as speechsdk"
   ]
  },
  {
   "cell_type": "markdown",
   "metadata": {},
   "source": [
    "Set up the subscription info for Speech Service:"
   ]
  },
  {
   "cell_type": "code",
   "execution_count": 10,
   "metadata": {},
   "outputs": [],
   "source": [
    "# Set up subscription info for the Speech Service\n",
    "load_dotenv() # Load environment variables such as Speech SDK API keys\n",
    "AZURE_SPEECH_KEY = os.getenv(\"SPEECHSDK_API_KEY\")\n",
    "AZURE_SERVICE_REGION = os.getenv(\"SPEECHSDK_REGION\")"
   ]
  },
  {
   "cell_type": "markdown",
   "metadata": {},
   "source": [
    "The following codes uses real-time speech-to-text function of Azure Speech Services using `SpeechRecognizer` instance. It reads from an input **audio file** in a continuous stream, simulating input audio."
   ]
  },
  {
   "cell_type": "code",
   "execution_count": 18,
   "metadata": {},
   "outputs": [],
   "source": [
    "# Initialize Speech Service\n",
    "def initialize_speech_service(audio_file_path):\n",
    "    speech_config = speechsdk.SpeechConfig(subscription=AZURE_SPEECH_KEY, region=AZURE_SERVICE_REGION)\n",
    "    audio_config = speechsdk.audio.AudioConfig(filename=audio_file_path)\n",
    "    return speechsdk.SpeechRecognizer(speech_config=speech_config, audio_config=audio_config)\n",
    "\n",
    "# Perform transcription on the audio file\n",
    "def transcribe_continuous_audio_file(recognizer):\n",
    "    recognized_speech = []\n",
    "\n",
    "    # Set a variable to manage the state of transcription\n",
    "    done = False\n",
    "\n",
    "    def handle_recognized(evt):\n",
    "        print(f\"Recognized: {evt.result.text}\")\n",
    "        recognized_speech.append(evt.result.text)\n",
    "    \n",
    "    def handle_canceled(evt):\n",
    "        print(f\"Recognition canceled: {evt.result.reason}\")\n",
    "        if evt.result.reason == speechsdk.CancellationReason.Error:\n",
    "            print(f\"Error details: {evt.result.error_details}\")\n",
    "\n",
    "        recognizer.stop_continuous_recognition()\n",
    "        nonlocal done\n",
    "        done = True\n",
    "\n",
    "    # Attach handlers for recognized results and any cancellations\n",
    "    recognizer.recognized.connect(handle_recognized)\n",
    "    recognizer.canceled.connect(handle_canceled)\n",
    "    \n",
    "    # Start continuous recognition\n",
    "    recognizer.start_continuous_recognition()\n",
    "    print(\"Transcribing...\")\n",
    "\n",
    "    # Wait for completion (i.e., done = True)\n",
    "    try:\n",
    "        import time\n",
    "        while not done:\n",
    "            time.sleep(.5)\n",
    "    except KeyboardInterrupt:\n",
    "        print(\"Transcription stopped by user.\")\n",
    "        recognizer.stop_continuous_recognition()\n",
    "\n",
    "    return \" \".join(recognized_speech)  # Return all the transcriptions concatenated"
   ]
  },
  {
   "cell_type": "code",
   "execution_count": 19,
   "metadata": {},
   "outputs": [
    {
     "name": "stdout",
     "output_type": "stream",
     "text": [
      "Transcribing...\n",
      "Recognized: Hello.\n",
      "Recognized: Hi. Yeah. OK. Hello. Good morning. So how can I help you this morning?\n",
      "Recognized: Yeah, I'm sorry to hear that. And when you say diarrhoea, what do you mean by diarrhea? Do you mean you're going to the toilet more often or are your stools more loose?\n",
      "Recognized: OK. And how many times a day are you going, let's say over the last couple of days?\n",
      "Recognized: 6-7 times a day and you mentioned this mainly water tree. Have you noticed any other things like blood in your stools?\n",
      "Recognized: OK. And you mentioned you've had some pain in your tummy as well. Whereabouts is the pain exactly?\n",
      "Recognized: One side. And what side is that?\n",
      "Recognized: That's right. OK. And can you describe the pain to me?\n",
      "Recognized: OK. And there's a pain. Is that is it there all the time or does it come and go?\n",
      "Recognized: Does the pain move anywhere else because on between your back?\n",
      "Recognized: OK, fine. And you mentioned you've been feeling quite weak and shaky as well. What do you mean by shaky? Do you mean you've been having, have you been feeling feverish, for example?\n",
      "Recognized: Measure your temperature then.\n",
      "Recognized: OK OK. Any other symptoms like sweating or night? No. And any vomiting at all?\n",
      "Recognized: You stop vomiting again and would you vomit? I know it's not nice thing to talk about but was it just normal food colour?\n",
      "Recognized: Yeah. And there was no blood in your vomits, is that right? No. OK. And any other symptoms at all? So you mentioned the tummy pain, you mentioned diarrhea, you mentioned the vomiting. Anything else that comes to mind?\n",
      "Recognized: OK.\n",
      "Recognized: OK, so you're drinking fluids. What kind of foods have you managed to eat? Anything?\n",
      "Recognized: OK, fine. And so we started three days ago. The symptoms, are you aware of any triggers which may have caused the symptoms to kick on? So for example, things like take away foods or eating out or being around other people who would similar symptoms?\n",
      "Recognized: Thank you. Do you remember where you ate?\n",
      "Recognized: OK anyone else unwell with similar symptoms?\n",
      "Recognized: OK, OK, fine.\n",
      "Recognized: Right. And in terms of your your overall health, are you normally fitting well or?\n",
      "Recognized: OK. And did you asthma well controlled?\n",
      "Recognized: And you don't have any other tummy problem? Bowel problems I should be aware of, no. OK. And apart from the inhalers, do you take any other medications?\n",
      "Recognized: OK, fine. And in terms of just your your day-to-day life, you said it's been affecting your life. In what way has it been affecting your life?\n",
      "Recognized: OK.\n",
      "Recognized: Yeah.\n",
      "Recognized: And have you are you currently working at the moment?\n",
      "Recognized: Would work.\n",
      "Recognized: OK. Have you been going into work the last three days? Have you been at home?\n",
      "Recognized: OK, that must be difficult for you then.\n",
      "Recognized: And you said, you mentioned you live with a wife and two children. Is that right? All right, just a couple of other questions we need to ask. Do you smoke at all?\n",
      "Recognized: And do you drink much more of alcohol?\n",
      "Recognized: OK, so.\n",
      "Recognized: Normally at this stage I'd like to examine you if that's OK but but haven't listened to your stories. I think just to recap, for the last three days you've been having loose dual diarrhea, bit of tummy pain mainly on the left hand side and vomiting and feeling quite weak and lethargic. You mentioned you're having this Chinese take away as well three days ago and I wonder whether that might be the cause of your problems. It seems like you may have something.\n",
      "Recognized: Called gastroenteritis.\n",
      "Recognized: Which is essentially just the tummy bug or infection of your of your tummy.\n",
      "Recognized: Mainly caused by viruses, but they can be a possibility of bacteria causing your symptoms.\n",
      "Recognized: At this stage, what what we'd recommend is just what we say conservative management. So I don't think you need anything like antibiotics is really just making sure you're well hydrated, so drinking plenty of fluids.\n",
      "Recognized: There are things like diolite you can get from the pharmacy which it's it helps replenish some of your minerals and vitamins.\n",
      "Recognized: And if you are having vomiting and diarrhea, I would soon recommend that first, you know, first couple of days. If you are feeling feverish and weak, taking some paracetamol, 2 tablets up to four times a day for the first few days can also help. I'll certainly advise you to take some time at work. Actually I know you're quite keen to work. I would say next to two to three days as clears from your system. Take some time off from rest.\n",
      "Recognized: You know, if your symptoms haven't got better, you know, in in three to four days, I'd like to come back and see you again.\n",
      "Recognized: Because if it is ongoing, then we have to wonder whether there's something else causing symptoms and we may need to do further tests like taking a sample of your store so we can test that, etcetera, etcetera.\n",
      "Recognized: How's that sound?\n",
      "Recognized: Do you have any questions for me?\n",
      "Recognized: OK. Is, is the treatment plan clear?\n",
      "Recognized: Great. Well, I wish you all the best. Thank you. Bye. Bye.\n",
      "Recognized: Bye.\n",
      "Recognition canceled: ResultReason.Canceled\n"
     ]
    }
   ],
   "source": [
    "# Example usage\n",
    "recognizer = initialize_speech_service(\"C:/Users/faith/batcave/primock57/audio/day1_consultation01_doctor.wav\")\n",
    "hypothesis_text = transcribe_continuous_audio_file(recognizer)"
   ]
  },
  {
   "cell_type": "markdown",
   "metadata": {},
   "source": [
    "## Evaluation Metrics"
   ]
  },
  {
   "cell_type": "markdown",
   "metadata": {},
   "source": [
    "We use `jiwer`, a Python package for evaluating an automatic speech recognition system. It supports the following word measures: word error rate (WER), match error rate (MER), word information lost (WIL) and word information preserved (WIP).\n",
    "\n",
    "- Official documentation: https://jitsi.github.io/jiwer/usage/ \n",
    "- Github repository: https://github.com/jitsi/jiwer/tree/master?tab=readme-ov-file\n",
    "\n",
    "### 1. Word Error Rate (WER)\n",
    "- **Definition**: WER is a metric used to evaluate the accuracy of speech recognition systems by comparing the output of the system (hypothesis) to a reference (ground truth).\n",
    "- **Calculation**:\n",
    "  $$\n",
    "  \\text{WER} = \\frac{S + D + I}{N}\n",
    "  $$\n",
    "  where:\n",
    "  - \\(S\\) = Number of substitutions\n",
    "  - \\(D\\) = Number of deletions\n",
    "  - \\(I\\) = Number of insertions\n",
    "  - \\(N\\) = Total number of words in the reference\n",
    "- **Interpretation**: A lower WER indicates better performance. It is expressed as a percentage of the total number of words.\n",
    "\n",
    "### 2. Match Error Rate (MER)\n",
    "- **Definition**: MER is a metric used in machine translation and speech recognition to measure the accuracy of the system's output. It is similar to WER but can be applied to both word and character-level errors.\n",
    "- **Calculation**:\n",
    "  $$\n",
    "  \\text{MER} = \\frac{\\text{Number of errors}}{\\text{Total number of units}}\n",
    "  $$\n",
    "  where:\n",
    "  - Errors can be substitutions, deletions, or insertions.\n",
    "  - Units can be words or characters depending on the application.\n",
    "- **Interpretation**: MER provides a general sense of accuracy by measuring the proportion of errors relative to the total number of units.\n",
    "\n",
    "### 3. Word Information Lost (WIL)\n",
    "- **Definition**: WIL measures the loss of information in the system's output compared to the reference. It focuses on how much of the original meaning or information is lost due to errors in the output.\n",
    "- **Calculation**:\n",
    "  $$\n",
    "  \\text{WIL} = \\frac{\\text{Number of information units lost}}{\\text{Total number of information units}}\n",
    "  $$\n",
    "- **Interpretation**: A higher WIL indicates more significant loss of information. It is often used in contexts where understanding the meaning of the text is crucial.\n",
    "\n",
    "### 4. Word Insertion Penalty (WIP)\n",
    "- **Definition**: WIP is used to penalize the insertion of extra words in the output. It helps in evaluating how well the system avoids adding unnecessary words that were not present in the reference.\n",
    "- **Calculation**:\n",
    "  $$\n",
    "  \\text{WIP} = \\frac{\\text{Number of insertions} \\times \\text{Penalty factor}}{\\text{Total number of words in the reference}}\n",
    "  $$\n",
    "- **Interpretation**: A higher WIP indicates that the system is inserting more extra words, which can affect the quality and readability of the output. The penalty factor can be adjusted based on how strictly you want to penalize insertions.\n"
   ]
  },
  {
   "cell_type": "code",
   "execution_count": 59,
   "metadata": {},
   "outputs": [],
   "source": [
    "# Initialize reference text\n",
    "reference_text = extract_text_from_textgrid(\"C:/Users/faith/batcave/primock57/transcripts/day1_consultation01_doctor.TextGrid\")\n",
    "cleaned_reference_text = remove_intents(reference_text)"
   ]
  },
  {
   "cell_type": "code",
   "execution_count": 64,
   "metadata": {},
   "outputs": [
    {
     "name": "stdout",
     "output_type": "stream",
     "text": [
      "sentence 1\n",
      "REF: hello hi um should we start yeah okay hello how um good morning sir how can i help you this morning **** * ** sorry to hear that um and and when you say  diarrhea what would you mean by diarrhea do you mean you are going to the toilet more often or are your stools more loose okay and how many times a day are you going let us say   in the last couple of days six seven times a day and you   mention   it     is mainly watery have you noticed any other things like blood in your stools okay and you mentioned you have had some pain in your tummy as well whereabouts is the pain exactly one side and what side is that **** left  side okay and can you describe the pain to me okay and ***** is the pain is that is it there all the time or does it come and go come and go does the pain move anywhere else     for example towards your back okay fine and you mentioned you have been feeling quite weak and shaky as well what do you mean by shaky do you mean you have been having uh have you been feeling feverish for example you measure your temperature then okay okay any other symptoms like sweating or um night sweats no and uh any vomiting at all you stopped vomiting  okay and   was your vomit i know it is not a nice thing to talk about but was it just normal food colour yeah and there was no blood in your  vomit is that right no okay um and um any any other symptoms at all so you mentioned *** tummy pain you mentioned diarrhea you mentioned your vomiting uh anything else that comes to mind okay okay so you are drinking fluids um what kind of foods have you managed to eat if anything okay fine um and sir these started three days ago the symptoms are you aware of any triggers which may have caused the symptoms uh to kick on so for example  think like **** takeaway foods or eating out or being around other people ***  with similar symptoms ***** okay do you remember where you ate okay anyone else unwell with similar symptoms okay okay fine    um alright and uh in terms of your your overall health are you normally     fit and well or uh okay and  is your asthma wellcontrolled       fine and you do not have any other tummy problem bowel problems i should be aware of no okay um and apart from the inhalers do you take any other medications okay fine and in terms of just your  day       to day life you said it is been affecting your life um in what way has it been affecting your life okay yeah and have you are you currently working at the moment would would work okay have you been going into work the last three days or have you been at home okay that must be difficult for you then fine and you said you mentioned you live with your wife and two children is that right *** right alright um just a couple of other  question we need to ask sir um do you smoke at all and do you drink much   in the way of alcohol okay so um er normally at this stage i ***** like to um examine you if that is okay but um um but  but having listened to your   story sir i think uh um just to recap for the last three days you have been having loose stool diarrhea a bit of tummy pain uh mainly on the **** lefthand side um and vomiting and   fever and you are quite weak and lethargic um you mentioned you ***    had this chinese **** takeaway as little as three days ago and i wondered whether that might be the cause of your problems um it seems like you may have something uh called gastroenteritis which ** essentially just   a tummy bug or infection of your uh of your tummy uh mainly caused by viruses but there can be a possibility of bacteria uh causing  its symptoms um at this stage uh what what we would recommend is just what we say conservative management so um i do not think you need anything like antibiotics it is really just um making sure you are well hydrated so drinking ****** ** fluids um there are things like dioralyte you can get from the pharmacy which uh it is um it helps ********* helps replenish your minerals and vitamins um and if you are having vomiting *** diarrhea i would  say recommend that in the first you know first couple of days if you are feeling feverish and weak eh taking some paracetamol uh two tablets up to four times a day for the first few days can also help i will certainly advise you to take some time off work actually i know you are quite keen to work but i would say the next two two to three days as the infection clears from your system to take some time off  and rest  um    i will admit if your symptoms have not got better you know in in three to four days i would like to come **** and see you again because if it is ongoing then we have to wonder whether ***** ** something else  caused your symptoms uh and we may need to do further tests like um taking a sample of your stool so we can test that um etcetera etcetera how is that sound do you have any questions for me okay and is uh is the treatment plan clear great well i wish you all the best thank you *** bye bye\n",
      "HYP: hello hi ** ****** ** ***** yeah   ok hello *** ** good morning  so how can i help you this morning yeah i am sorry to hear that ** and *** when you say diarrhoea what    do you mean by diarrhea do you mean you are going to the toilet more often or are your stools more loose   ok and how many times a day are you going let us say over the last couple of days  67 ***** times a day and you mentioned this mainly  water   tree have you noticed any other things like blood in your stools   ok and you mentioned you have had some pain in your tummy as well whereabouts is the pain exactly one side and what side is that that   is right   ok and can you describe the pain to me   ok and there is   a pain is that is it there all the time or does it come and go **** *** ** does the pain move anywhere else because      on between your back   ok fine and you mentioned you have been feeling quite weak and shaky as well what do you mean by shaky do you mean you have been having ** have you been feeling feverish for example *** measure your temperature then   ok   ok any other symptoms like sweating or ** night ****** no and ** any vomiting at all you    stop vomiting again and would  you vomit i know it is not * nice thing to talk about but was it just normal food colour yeah and there was no blood in your vomits is that right no   ok ** and ** any *** other symptoms at all so you mentioned the tummy pain you mentioned diarrhea you mentioned  the vomiting ** anything else that comes to mind   ok   ok so you are drinking fluids ** what kind of foods have you managed to eat ** anything   ok fine ** and  so    we started three days ago the symptoms are you aware of any triggers which may have caused the symptoms ** to kick on so for example things like take     away foods or eating out or being around other people who would similar symptoms thank  you do you remember where you ate   ok anyone else unwell with similar symptoms   ok   ok fine right ******* and ** in terms of your your overall health are you normally fitting *** well or ok **** and did  you asthma           well controlled and you do not have any other tummy problem bowel problems i should be aware of no   ok ** and apart from the inhalers do you take any other medications   ok fine and in terms of just your your daytoday *** life you said it is been affecting your life ** in what way has it been affecting your life   ok yeah and have you are you currently working at the moment would ***** work   ok have you been going into work the last three days ** have you been at home   ok that must be difficult for you then **** and you said you mentioned you live with    a wife and two children is that right all right ******* ** just a couple of other questions we need to ask *** ** do you smoke at all and do you drink much more *** *** of alcohol   ok so ** ** normally at this stage i would like to ** examine you if that is   ok but ** ** but have    not listened to your stories *** i think ** ** just to recap for the last three days you have been having loose  dual diarrhea * bit of tummy pain ** mainly on the left     hand side ** and vomiting and feeling *** *** *** quite weak and lethargic ** you mentioned you are having this chinese take     away as   well ** three days ago and i   wonder whether that might be the cause of your problems ** it seems like you may have something ** called gastroenteritis which is essentially just the tummy bug or infection of your ** of your tummy ** mainly caused by viruses but  they can be a possibility of bacteria ** causing your symptoms ** at this stage ** what what we would recommend is just what we say conservative management so ** i do not think you need anything like antibiotics ** is really just ** making sure you are well hydrated so drinking plenty of fluids ** there are things like   diolite you can get from the pharmacy which ** it is ** it helps replenish  some        of your minerals and vitamins ** and if you are having vomiting and diarrhea i would soon recommend that ** *** first you know first couple of days if you are feeling feverish and weak ** taking some paracetamol  2 *** tablets up to four times a day for the first few days can also help i will certainly advise you to take some time  at work actually i know you are quite keen to work *** i would say *** next  to two to three days as *** ********* clears from your system ** take some time off from rest you know **** ***** if your symptoms have not got better you know in in three to four days i would like to come back and see you again because if it is ongoing then we have to wonder whether there is something else causing **** symptoms ** and we may need to do further tests like ** taking a sample of your store so we can test that ** etcetera etcetera how is that sound do you have any questions for me   ok *** is ** is the treatment plan clear great well i wish you all the best thank you bye bye bye\n",
      "               D      D  D     D         S         D  D                S                                    I I  I                     D       D                      S          S                                                                                                          S                                                      S                           S     D                             S    S      S      S      S                                                                S                                                                                                                                  I    S     S    S                                        S         I      S                                                                 D   D  D                                        S       S       S              S                                                                                                                                       D                                              D                                  S    S                                      D            D         D                               S              S         S    S                        D                                                                                                      S                     S  D      D       D                                          I                                                    S           D                                     S    S                             D                                             D             S       D       S     S                                                                                                       D                                S         I        S                                                    I     S                      I    S                                  S                                             S    S          S       D      D                                                             S   D          S    D       S    S                     S          S                                                                                       S  D                                                                  S                                   S        S   D                                               D                                                S                                                                     D         S                                                    D                          S                                        D                                             S                                       I             D  D                                S                  D  D                                              S   D   D               S     D  D                              I          D                           S      D  D        S      S                        S   D          D  D                                                                      S          D                    D                  I        S       D                        S   D   D   D                           D                     I      S                 I        S         S  D                             S                                                   D                                       D                               I                    S                                 D                D                                  S                                   D            S           D                D                                                                              D                                                    D                 D                                                    I  I         D                               S                                      D        D                  I     S         S                             D                                  I                     S                 D   D                                                                           D                          S   D                                                                                                                     S                                                   D               D        S                        D         D                          D                       S        S    S    D     D                                                                                                I                                                                               I  I                      S    D           D                                           D                             S                      D                                                                         S   D     D                                                                            I        \n",
      "\n",
      "number of sentences: 1\n",
      "substitutions=88 deletions=89 insertions=23 hits=774\n",
      "\n",
      "mer=20.53%\n",
      "wil=28.82%\n",
      "wip=71.18%\n",
      "wer=21.03%\n",
      "\n"
     ]
    }
   ],
   "source": [
    "# Visualize alignment using jiwer package\n",
    "import jiwer\n",
    "\n",
    "def get_alignment(reference_text, hypothesis_text):\n",
    "    # Normalize the text by transforming it to lower case and removing punctuation\n",
    "    transformation = jiwer.Compose([\n",
    "        jiwer.ToLowerCase(),\n",
    "        jiwer.ExpandCommonEnglishContractions(),\n",
    "        jiwer.RemoveKaldiNonWords(),\n",
    "        jiwer.RemovePunctuation()\n",
    "    ])\n",
    "\n",
    "    ref = transformation(reference_text)\n",
    "    hyp = transformation(hypothesis_text)\n",
    "    \n",
    "    out = jiwer.process_words(ref, hyp)\n",
    "    print(jiwer.visualize_alignment(out))\n",
    "\n",
    "get_alignment(cleaned_reference_text, hypothesis_text)"
   ]
  },
  {
   "cell_type": "markdown",
   "metadata": {},
   "source": [
    "## Experiment using Phrase List\n",
    "\n",
    "Let's run an example experiment to see if the [**Phrase List**](https://learn.microsoft.com/en-us/azure/ai-services/speech-service/improve-accuracy-phrase-list?tabs=terminal&pivots=programming-language-python#implement-phrase-list) feature of Azure Speech Services can improve recognition accuracy of specific medical terminologies that was not captured above.\n",
    "\n",
    "Phrases that we will be including for specific recognition are:\n",
    "- watery stools\n",
    "- night sweats\n",
    "- medically fit\n",
    "- loose stool diarrhea\n",
    "- fever\n",
    "- dioralyte\n",
    "- infection"
   ]
  },
  {
   "cell_type": "code",
   "execution_count": 67,
   "metadata": {},
   "outputs": [],
   "source": [
    "# Initialize new recognizer\n",
    "new_recognizer = initialize_speech_service(\"C:/Users/faith/batcave/primock57/audio/day1_consultation01_doctor.wav\")"
   ]
  },
  {
   "cell_type": "code",
   "execution_count": 68,
   "metadata": {},
   "outputs": [],
   "source": [
    "# Add medical vocabulary to phrase list\n",
    "phrase_list_grammar = speechsdk.PhraseListGrammar.from_recognizer(new_recognizer)\n",
    "phrase_list_grammar.addPhrase(\"watery stools\")\n",
    "phrase_list_grammar.addPhrase(\"night sweats\")\n",
    "phrase_list_grammar.addPhrase(\"medically fit\")\n",
    "phrase_list_grammar.addPhrase(\"loose stool diarrhea\")\n",
    "phrase_list_grammar.addPhrase(\"fever\")\n",
    "phrase_list_grammar.addPhrase(\"dioralyte\")\n",
    "phrase_list_grammar.addPhrase(\"infection\")"
   ]
  },
  {
   "cell_type": "code",
   "execution_count": 69,
   "metadata": {},
   "outputs": [
    {
     "name": "stdout",
     "output_type": "stream",
     "text": [
      "Transcribing...\n",
      "Recognized: Hello.\n",
      "Recognized: Hi. Yeah. OK. Hello. Good morning. So how can I help you this morning?\n",
      "Recognized: Yeah, I'm sorry to hear that. And when you say diarrhoea, what do you mean by diarrhoea? Do you mean you're going to the toilet more often or are your stools more loose?\n",
      "Recognized: OK. And how many times a day are you going, let's say over the last couple of days?\n",
      "Recognized: 6-7 times a day and you mentioned this mainly water tree. Have you noticed any other things like blood in your stools?\n",
      "Recognized: OK. And you mentioned you've had some pain in your tummy as well. Whereabouts is the pain exactly?\n",
      "Recognized: One side. And what side is that?\n",
      "Recognized: That's right. OK. And can you describe the pain to me?\n",
      "Recognized: OK. And there's a pain. Is that is it there all the time or does it come and go?\n",
      "Recognized: Does the pain move anywhere else because on between your back?\n",
      "Recognized: OK, fine. And you mentioned you've been feeling quite weak and shaky as well. What do you mean by shaky? Do you mean you've been having, have you been feeling feverish, for example?\n",
      "Recognized: Measure your temperature then.\n",
      "Recognized: OK OK. Any other symptoms like sweating or night? No. And any vomiting at all?\n",
      "Recognized: You stop vomiting again and would you vomit? I know it's not nice thing to talk about but was it just normal food colour?\n",
      "Recognized: Yeah. And there was no blood in your vomits, is that right? No. OK. And any other symptoms at all? So you mentioned the tummy pain, you mentioned diarrhea, you mentioned the vomiting. Anything else that comes to mind?\n",
      "Recognized: OK.\n",
      "Recognized: OK, so you're drinking fluids. What kind of foods have you managed to eat? Anything?\n",
      "Recognized: OK, fine. And so we started three days ago. The symptoms, are you aware of any triggers which may have caused the symptoms to kick on? So for example, things like take away foods or eating out or being around other people who would similar symptoms?\n",
      "Recognized: Thank you. Do you remember where you ate?\n",
      "Recognized: OK anyone else unwell with similar symptoms?\n",
      "Recognized: OK, OK, fine.\n",
      "Recognized: Right. And in terms of your your overall health, are you normally fitting well or?\n",
      "Recognized: OK. And did you asthma well controlled?\n",
      "Recognized: MMM.\n",
      "Recognized: And you don't have any other tummy problem? Bowel problems I should be aware of, no. OK. And apart from the inhalers, do you take any other medications?\n",
      "Recognized: OK, fine. And in terms of just your your day-to-day life, you said it's been affecting your life. In what way has it been affecting your life?\n",
      "Recognized: OK.\n",
      "Recognized: Yeah.\n",
      "Recognized: And have you are you currently working at the moment?\n",
      "Recognized: Would work.\n",
      "Recognized: OK. Have you been going into work the last three days? Have you been at home?\n",
      "Recognized: OK, that must be difficult for you then.\n",
      "Recognized: And you said, you mentioned you live with a wife and two children. Is that right? All right, just a couple of other questions we need to ask. Do you smoke at all?\n",
      "Recognized: And do you drink much more of alcohol?\n",
      "Recognized: OK, so.\n",
      "Recognized: Normally at this stage I'd like to examine you if that's OK but but haven't listened to your stories. I think just to recap, for last three days you've been having loose stool, diarrhea, bit of tummy pain mainly on the left hand side and vomiting and feeling quite weak and lethargic. You mentioned you're having this Chinese take away as well three days ago and I wonder whether that might be the cause of your problems. It seems like you may have something.\n",
      "Recognized: Called gastroenteritis.\n",
      "Recognized: Which is essentially just the tummy bug or infection of your of your tummy.\n",
      "Recognized: Mainly caused by viruses, but they can be a possibility of bacteria causing your symptoms.\n",
      "Recognized: At this stage, what what we'd recommend is just what we say conservative management. So I don't think you need anything like antibiotics is really just making sure you're well hydrated, so drinking plenty of fluids.\n",
      "Recognized: There are things like diorite you can get from the pharmacy which it's it helps replenish some of your minerals and vitamins.\n",
      "Recognized: And if you are having vomiting and diarrhea, I would soon recommend that first, you know, first couple of days. If you are feeling feverish and weak, taking some paracetamol, 2 tablets up to four times a day for the first few days can also help. I'll certainly advise you to take some type of work. Actually I know you're quite keen to work. I would say next to two to three days as clears from your system. Take some time off from rest.\n",
      "Recognized: You know, if your symptoms haven't got better, you know, in in three to four days, I'd like to come back and see you again.\n",
      "Recognized: Because if it is ongoing, then we have to wonder whether it's something else causing symptoms and we may need to do further tests like taking a sample of your stool so we can test that, etcetera, etcetera.\n",
      "Recognized: How's that sound?\n",
      "Recognized: Do you have any questions for me?\n",
      "Recognized: OK. Is, is the treatment plan clear?\n",
      "Recognized: Great. Well, I wish you all the best. Thank you. Bye. Bye.\n",
      "Recognized: Bye.\n",
      "Recognition canceled: ResultReason.Canceled\n"
     ]
    }
   ],
   "source": [
    "# Re-transcribe the hypothesis text using new phrase list\n",
    "new_hypothesis_text = transcribe_continuous_audio_file(new_recognizer)"
   ]
  },
  {
   "cell_type": "code",
   "execution_count": 71,
   "metadata": {},
   "outputs": [
    {
     "name": "stdout",
     "output_type": "stream",
     "text": [
      "sentence 1\n",
      "REF: hello hi yeah ok hello good morning so how can i help you this morning yeah i am sorry to hear that and when you say diarrhoea what do you mean by  diarrhea do you mean you are going to the toilet more often or are your stools more loose ok and how many times a day are you going let us say over the last couple of days 67 times a day and you mentioned this mainly water tree have you noticed any other things like blood in your stools ok and you mentioned you have had some pain in your tummy as well whereabouts is the pain exactly one side and what side is that that is right ok and can you describe the pain to me ok and there is a pain is that is it there all the time or does it come and go does the pain move anywhere else because on between your back ok fine and you mentioned you have been feeling quite weak and shaky as well what do you mean by shaky do you mean you have been having have you been feeling feverish for example measure your temperature then ok ok any other symptoms like sweating or night no and any vomiting at all you stop vomiting again and would you vomit i know it is not nice thing to talk about but was it just normal food colour yeah and there was no blood in your vomits is that right no ok and any other symptoms at all so you mentioned the tummy pain you mentioned diarrhea you mentioned the vomiting anything else that comes to mind ok ok so you are drinking fluids what kind of foods have you managed to eat anything ok fine and so we started three days ago the symptoms are you aware of any triggers which may have caused the symptoms to kick on so for example things like take away foods or eating out or being around other people who would similar symptoms thank you do you remember where you ate ok anyone else unwell with similar symptoms ok ok fine right and in terms of your your overall health are you normally fitting well or ok and did you asthma well controlled *** and you do not have any other tummy problem bowel problems i should be aware of no ok and apart from the inhalers do you take any other medications ok fine and in terms of just your your daytoday life you said it is been affecting your life in what way has it been affecting your life ok yeah and have you are you currently working at the moment would work ok have you been going into work the last three days have you been at home ok that must be difficult for you then and you said you mentioned you live with a wife and two children is that right all right just a couple of other questions we need to ask do you smoke at all and do you drink much more of alcohol ok so normally at this stage i would like to examine you if that is ok but but have not listened to your stories i think just to recap for the last three days you have been having loose  dual diarrhea bit of tummy pain mainly on the left hand side and vomiting and feeling quite weak and lethargic you mentioned you are having this chinese take away as well three days ago and i wonder whether that might be the cause of your problems it seems like you may have something called gastroenteritis which is essentially just the tummy bug or infection of your of your tummy mainly caused by viruses but they can be a possibility of bacteria causing your symptoms at this stage what what we would recommend is just what we say conservative management so i do not think you need anything like antibiotics is really just making sure you are well hydrated so drinking plenty of fluids there are things like diolite you can get from the pharmacy which it is it helps replenish some of your minerals and vitamins and if you are having vomiting and diarrhea i would soon recommend that first you know first couple of days if you are feeling feverish and weak taking some paracetamol 2 tablets up to four times a day for the first few days can also help i will certainly advise you to take some time at work actually i know you are quite keen to work i would say next to two to three days as clears from your system take some time off from rest you know if your symptoms have not got better you know in in three to four days i would like to come back and see you again because if it is ongoing then we have to wonder whether there is something else causing symptoms and we may need to do further tests like taking a sample of your store so we can test that etcetera etcetera how is that sound do you have any questions for me ok is is the treatment plan clear great well i wish you all the best thank you bye bye bye\n",
      "HYP: hello hi yeah ok hello good morning so how can i help you this morning yeah i am sorry to hear that and when you say diarrhoea what do you mean by diarrhoea do you mean you are going to the toilet more often or are your stools more loose ok and how many times a day are you going let us say over the last couple of days 67 times a day and you mentioned this mainly water tree have you noticed any other things like blood in your stools ok and you mentioned you have had some pain in your tummy as well whereabouts is the pain exactly one side and what side is that that is right ok and can you describe the pain to me ok and there is a pain is that is it there all the time or does it come and go does the pain move anywhere else because on between your back ok fine and you mentioned you have been feeling quite weak and shaky as well what do you mean by shaky do you mean you have been having have you been feeling feverish for example measure your temperature then ok ok any other symptoms like sweating or night no and any vomiting at all you stop vomiting again and would you vomit i know it is not nice thing to talk about but was it just normal food colour yeah and there was no blood in your vomits is that right no ok and any other symptoms at all so you mentioned the tummy pain you mentioned diarrhea you mentioned the vomiting anything else that comes to mind ok ok so you are drinking fluids what kind of foods have you managed to eat anything ok fine and so we started three days ago the symptoms are you aware of any triggers which may have caused the symptoms to kick on so for example things like take away foods or eating out or being around other people who would similar symptoms thank you do you remember where you ate ok anyone else unwell with similar symptoms ok ok fine right and in terms of your your overall health are you normally fitting well or ok and did you asthma well controlled mmm and you do not have any other tummy problem bowel problems i should be aware of no ok and apart from the inhalers do you take any other medications ok fine and in terms of just your your daytoday life you said it is been affecting your life in what way has it been affecting your life ok yeah and have you are you currently working at the moment would work ok have you been going into work the last three days have you been at home ok that must be difficult for you then and you said you mentioned you live with a wife and two children is that right all right just a couple of other questions we need to ask do you smoke at all and do you drink much more of alcohol ok so normally at this stage i would like to examine you if that is ok but but have not listened to your stories i think just to recap for *** last three days you have been having loose stool diarrhea bit of tummy pain mainly on the left hand side and vomiting and feeling quite weak and lethargic you mentioned you are having this chinese take away as well three days ago and i wonder whether that might be the cause of your problems it seems like you may have something called gastroenteritis which is essentially just the tummy bug or infection of your of your tummy mainly caused by viruses but they can be a possibility of bacteria causing your symptoms at this stage what what we would recommend is just what we say conservative management so i do not think you need anything like antibiotics is really just making sure you are well hydrated so drinking plenty of fluids there are things like diorite you can get from the pharmacy which it is it helps replenish some of your minerals and vitamins and if you are having vomiting and diarrhea i would soon recommend that first you know first couple of days if you are feeling feverish and weak taking some paracetamol 2 tablets up to four times a day for the first few days can also help i will certainly advise you to take some type of work actually i know you are quite keen to work i would say next to two to three days as clears from your system take some time off from rest you know if your symptoms have not got better you know in in three to four days i would like to come back and see you again because if it is ongoing then we have to wonder whether    it is something else causing symptoms and we may need to do further tests like taking a sample of your stool so we can test that etcetera etcetera how is that sound do you have any questions for me ok is is the treatment plan clear great well i wish you all the best thank you bye bye bye\n",
      "                                                                                                                                                                S                                                                                                                                                                                                                                                                                                                                                                                                                                                                                                                                                                                                                                                                                                                                                                                                                                                                                                                                                                                                                                                                                                                                                                                                                                                                                                                                                                                                                                                                                                                                                                                                                                                                                                                                                                                                                               I                                                                                                                                                                                                                                                                                                                                                                                                                                                                                                                                                                                                                                                                                                                                                                                                                                        D                                                S                                                                                                                                                                                                                                                                                                                                                                                                                                                                                                                                                                                                                                                                                                                                          S                                                                                                                                                                                                                                                                                                                                                                                            S  S                                                                                                                                                                                                                                                                                                                                       S                                                                                                         S                                                                                                                                                                                    \n",
      "\n",
      "number of sentences: 1\n",
      "substitutions=7 deletions=1 insertions=1 hits=877\n",
      "\n",
      "mer=1.02%\n",
      "wil=1.80%\n",
      "wip=98.20%\n",
      "wer=1.02%\n",
      "\n"
     ]
    }
   ],
   "source": [
    "# Compare old hypothesis text with new\n",
    "get_alignment(hypothesis_text, new_hypothesis_text)"
   ]
  },
  {
   "cell_type": "markdown",
   "metadata": {},
   "source": [
    "We see from the above that the diagnosis for \"stool\" or \"loose stool diarrhea\" has been recognized correctly after adding the phrases! However, symptoms such as \"night sweats\", \"watery\", and \"dioralyte\" are still being mistranscribed. We leave this for further experimentation."
   ]
  }
 ],
 "metadata": {
  "kernelspec": {
   "display_name": "speechsdk",
   "language": "python",
   "name": "python3"
  },
  "language_info": {
   "codemirror_mode": {
    "name": "ipython",
    "version": 3
   },
   "file_extension": ".py",
   "mimetype": "text/x-python",
   "name": "python",
   "nbconvert_exporter": "python",
   "pygments_lexer": "ipython3",
   "version": "3.12.4"
  }
 },
 "nbformat": 4,
 "nbformat_minor": 2
}
