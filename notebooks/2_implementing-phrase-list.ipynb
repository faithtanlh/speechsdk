{
 "cells": [
  {
   "cell_type": "markdown",
   "metadata": {},
   "source": [
    "# Implementation of Phrase List Feature\n",
    "\n",
    "We explore ways in which we can add medical terms for better detection by the speech-to-text system. \n",
    "\n",
    "In particular, we leverage Azure Text Analytics for Health to extract medical entities of high confidence that was missed out in detection. Then, we dynamically add these to Phrase List based on detected context of conversation."
   ]
  },
  {
   "cell_type": "markdown",
   "metadata": {},
   "source": [
    "## Authenticate Client"
   ]
  },
  {
   "cell_type": "code",
   "execution_count": 1,
   "metadata": {},
   "outputs": [],
   "source": [
    "import os\n",
    "from dotenv import load_dotenv\n",
    "from azure.ai.textanalytics import TextAnalyticsClient\n",
    "from azure.core.credentials import AzureKeyCredential\n",
    "\n",
    "load_dotenv()\n",
    "AZURE_API_KEY = os.getenv(\"AZURE_API_KEY\")\n",
    "AZURE_API_ENDPOINT = os.getenv(\"AZURE_API_ENDPOINT\")\n",
    "\n",
    "def authenticate_client():\n",
    "    ta_credential = AzureKeyCredential(AZURE_API_KEY)\n",
    "    text_analytics_client = TextAnalyticsClient(endpoint=AZURE_API_ENDPOINT, credential=ta_credential)\n",
    "    return text_analytics_client\n",
    "\n",
    "client = authenticate_client()"
   ]
  },
  {
   "cell_type": "markdown",
   "metadata": {},
   "source": [
    "## Extract Medical Entities"
   ]
  },
  {
   "cell_type": "code",
   "execution_count": 4,
   "metadata": {},
   "outputs": [
    {
     "name": "stdout",
     "output_type": "stream",
     "text": [
      "['start', 'sir', 'whatd', 'mention', 'watery', 'left', 'side', 'come', 'go', 'example', 'towards', 'sweats', 'stopped', 'vomit', 'takeaway', 'fit', 'question', 'way', 'er', 'story', 'stool', 'fever', 'little', 'wondered', 'dioralyte', 'helps', 'eh', 'work', 'actually', 'quite', 'keen', 'next', 'three', 'days', 'infection', 'clears', 'system', 'take', 'time', 'rest', 'admit', 'caused', 'hey', 'maybe', 'makes', 'yknow', 'blood', 'ate', 'athsma', 'use', 'problem', 'certain', 'get', 'steroid', 'havent', 'seen', 'resmarize', 'sorry', 'said', 'allergies', 'sarah', 'piriton', 'eczema', 'cu', 'types', 'antihistamines', 'fexofenadine', 'cant', 'shower', 'symptoms', 'appeared', 'itching', 'arm', 'pretty', 'weekend', 'cannot', 'itchy', 'disease', 'arms', 'thank', 'mid', 'day', 'worries', 'headache', 'lymes', 'twice', 'mean', 'concern', 'lot', 'let', 'maam', 'difficulties', 'breathings', 'thyroid', 'meant', 'hope', 'puts', 'mind', 'ease', 'triggering', 'terms', 'trying', 'co', 'codamol', 'hows', 'develop', 'want', 'zig', 'zag', 'pains', 'cancer', 'tor', 'need', 'tour', 'mom', 'underactive', 'hi', 'great', 'worse', 'evenings', 'night', 'first', 'winded', 'feel', 'ears', 'head', 'headaches', 'passing', 'urine', 'otherwise', 'medications', 'type', 'listened', 'since', 'generally', 'respiratory', 'last', 'id', 'making', 'labored', 'sort', 'past', 'clearing', 'tired', 'thus', 'theres', 'grandads', 'tim', 'whereabouts', 'mentioned', 'vomiting', 'kim', 'partner', 'moment', 'week', 'scare', 'potentially', 'something', 'us', 'taking', 'smarize', 'mainly', 'noticed', 'anything', 'based', 'tmy', 'pain', 'organize', 'basically', 'worsening', 'et', 'cetera', 'antibiotics', 'trimethoprim', 'see', 'feeling', 'peeing', 'sexually', 'active', 'method', 'implanon', 'hasnt', 'room', 'mates', 'nice', 'found', 'reporting', 'waterworks', 'hard', 'apart', 'dose', 'connections', 'good', 'thousand', 'early', 'sixties', 'cats', 'anti', 'social', 'seems', 'furosemide', 'general', 'might', 'remember', 'organized', 'count', 'run', 'ever', 'bisoprolol', 'oof', 'thatll', 'better', 'soon', 'try', 'bringing', 'flem', 'certainly', 'hear', 'runny', 'ah', 'nothing', 'look', 'mirror', 'ago', 'lisinopril', 'pays', 'bills', 'itll', 'smarise', 'worry', 'eight', 'wifes', 'wee', 'ugh', 'theyre', 'shite', 'hearings', 'rot', 'appetites', 'keep', 'fluids', 'saying', 'round', 'tyres', 'doctor', 'high', 'paper', 'nah', 'life', 'exact', 'doc', 'old', 'alky', 'vaporisers', 'cigarettes', 'thing', 'twenty', 'six', 'lou', 'works', 'gels', 'history', 'microgynon', 'medical', 'lactose', 'tell', 'hayfever', 'sometimes', 'find', 'lifes', 'stage', 'leaflet', 'names', 'itha', 'realised', 'never', 'skins', 'working', 'long', 'hours', 'mrs', 'asking', 'weeks', 'getting', 'didnt', 'clindamycin', 'related', 'whos', 'recoend', 'hopefully', 'wanna', 'thatd', 'contraception', 'pee', 'lower', 'real', 'noticing', 'predominantly', 'discolouration', 'aching', 'sides', 'pill', 'pure', 'allergy', 'ritib', 'whats', 'wed', 'still', 'organise', 'send', 'hello', 'notice', 'achey', 'nausea', 'pass', 'bowels', 'dunno', 'nope', 'mycin', 'enjoy', 'back', 'watch', 'wow', 'using', 'ask', 'scale', 'ten', 'solid', 'sleeping', 'hoarse', 'forwards', 'bowel', 'mouth', 'anus', 'situation', 'diarolyte', 'choudhry', 'seven', 'weight', 'hes', 'honest', 'blue', 'diabetes', 'lasts', 'five', 'stools', 'inhalers', 'given', 'drink', 'infrequently', 'whereabout', 'hurt', 'probably', 'similar', 'impacting', 'analgesia', 'painkillers', 'adriana', 'katherine', 'new', 'mucky', 'coming', 'zinopril', 'looks', 'lives', 'away', 'field', 'reason', 'wine', 'cut', 'theoretical', 'nothey', 'laboured', 'restless', 'chest', 'percent', 'cough', 'kept', 'muscle', 'legs', 'diarrhea', 'shit', 'drank', 'lets', 'hand', 'scratch', 'often', 'writing', 'notes', 'cracked', 'exmaple', 'metformin', 'particularly', 'got', 'literally', 'grinding', 'bedrooms', 'bathrooms', 'also', 'tried', 'antihistamine', 'medicine', 'dr', 'mesa', 'jn', 'ball', 'eardr', 'muffled', 'easy', 'ear', 'heart', 'beating', 'step', 'closer', 'figuring', 'tinnitus', 'ring', 'slot', 'care', 'mh', 'listen', 'solve', 'much', 'dizziness', 'deen', 'mirza', 'banged', 'elbow', 'gp', 'nerve', 'may', 'form', 'tests', 'test', 'forms', 'follow', 'appointment', 'goes', 'move', 'osteoarthritis', 'hurts', 'weird', 'dry', 'thanks', 'itchiness', 'cotton', 'ignorance', 'jockey', 'talking', 'bells', 'gets', 'meet', 'kind', 'jawlines', 'occasionally', 'cottons', 'buds', 'rennies', 'nose', 'polyps', 'ongoing', 'latex', 'pets', 'dizzy', 'postcode', 'warm', 'fair', 'diagnoses', 'pulse', 'needs', 'presented', 'cognisant', 'lovely', 'god', 'street', 'w', 'today', 'flat', 'methotrexate', 'phone', 'rested', 'asthma', 'gait', 'month', 'stroke', 'mini', 'plastic', 'tias', 'going', 'tia', 'turnaround', 'arteries', 'check', 'whether', 'leave', 'consultation', 'help', 'things', 'avenue', 'ab', 'cb', 'hands', 'sensation', 'guess', 'pins', 'needles', 'every', 'bee', 'sting', 'bite', 'stung', 'red', 'taken', 'reactions', 'cat', 'reaction', 'localised', 'lip', 'stridor', 'rasping', 'buy', 'chlorphenamine', 'urgent', 'action', 'via', 'yet', 'case', 'doe', 'swollen', 'hole', 'wasp', 'home', 'resor', 'sixty', 'swell', 'double', 'gotten', 'questions', 'neck', 'stiffness', 'anywhere', 'preventative', 'seeing', 'give', 'happened', 'date', 'habit', 'necks', 'u', 'ooo', 'strengthen', 'seroxat', 'hay', 'youll', 'doors', 'staying', 'f', 'bold', 'harder', 'maybr', 'theyve', 'sertraline', 'anxiety', 'glad', 'helped', 'living', 'ibuprofens', 'paracetamol', 'drinking', 'point', 'causes', 'book', 'best', 'atan', 'headachy', 'thirty', 'oclock', 'subsided', 'ms', 'wouldnt', 'email', 'developed', 'anaphylactic', 'nine', 'maria', 'trabalotsa', 'traba', 'gmail', 'dot', 'com', 'banter', 'took', 'somebody', 'came', 'earaches', 'cold', 'rash', 'ben', 'nber', 'nw', 'iive', 'necessarily', 'traveling', 'least', 'stone', 'poo', 'short', 'breathlets', 'described', 'overactive', 'beat', 'ph', 'warrant', 'hundred', 'ciao', 'peter', 'peterson', 'uk', 'half', 'storm', 'painless', 'nono', 'nauseous', 'breath', 'view', 'thyroxine', 'walking', 'report', 'preventor', 'youd', 'wheezy', 'sput', 'righty', 'ho', 'oral', 'sometime', 'brown', 'clenil', 'opt', 'sneeze', 'flow', 'puffs', 'name', 'november', 'road', 'flanel', 'bactroban', 'cetraben', 'em', 'brother', 'salbutamol', 'overlap', 'erm', 'charting', 'hearing', 'failure', 'earthere', 'stability', 'cross', 'sw', 'four', 'zero', 'buzzy', 'swelling', 'blotching', 'twelve', 'eighty', 'aerosinusitis', 'advice', 'sore', 'area', 'weeping', 'used', 'steroids', 'cetirizine', 'hypothroidism', 'everyday', 'minutes', 'betnovateor', 'betnovate', 'amounts', 'dermal', 'diprovate', 'bad', 'seventeen', 'hanover', 'diprobase', 'hypothyroidism', 'flare', 'rattly', 'ibuprofen', 'lisonopril', 'cool', 'nurse', 'jones', 'net', 'occasional', 'killers', 'along', 'called', 'slight', 'message', 'nb', 'onto', 'edward', 'peripheral', 'vision', 'capture', 'sixteen', 'mary', 'smith', 'likein', 'workers', 'workout', 'exactly', 'slacked', 'snot', 'laxepro', 'meat', 'yoghurts', 'alone', 'upwards', 'gill', 'medicines', 'gardening', 'someones', 'else', 'light', 'headedness', 'suppose', 'discomfort', 'smoke', 'severe', 'hypertension', 'headed', 'climbing', 'swellings', 'loo', 'stairs', 'strenuous', 'problems', 'clinic', 'almost', 'pounds', 'quick', 'picking', 'hyperthyroidism', 'bought', 'c', 'clot', 'fairly', 'april', 'codeine', 'babylon', 'wheeze', 'rooms', 'though', 'must', 'normally', 'please', 'loot', 'without', 'sounding', 'abdominal', 'n', 'nk', 'nkda', 'inhaler', 'middle', 'focus', 'centre', 'abdomen', 'comes', 'minute', 'alleviate', 'trapped', 'fruit', 'walk', 'gone', 'hyperthyroid', 'seemed', 'typical', 'treatments', 'drinks', 'migraine', 'blurred', 'paracetemol', 'year', 'wonder', 'sounds', 'disconnect', 'happy', 'familys', 'lung', 'expect', 'concerned', 'gotta', 'throat', 'shortness', 'todays', 'whole', 'exercises', 'superbad', 'worrying', 'asbestos', 'counts', 'fevers', 'sense', 'marvelous', 'many', 'sleep', 'job', 'self', 'erections', 'disinterested', 'froze', 'thyrocsin', 'seem', 'low', 'decreased', 'sex', 'drive', 'weve', 'mornings', 'coincided', 'eating', 'distracted', 'difficult', 'coited', 'activites', 'feels', 'brian', 'talk', 'tight', 'modulite', 'exacerbation', 'flights', 'prn', 'anytime', 'lizzy', 'comfortable', 'bunged', 'belly', 'button', 'make', 'dull', 'ache', 'constant', 'couple', 'careful', 'periods', 'spotting', 'thought', 'period', 'pink', 'due', 'part', 'around', 'implants', 'yesterday', 'cleared', 'recently', 'allergic', 'amoxicillin', 'aware', 'boyfriend', 'spring', 'iediate', 'family', 'diabetic', 'horrible', 'hot', 'sweaty', 'happening', 'uncomfortable', 'discharge', 'faint', 'appreciate', 'cheers', 'geraghty', 'term', 'already', 'inflaatories', 'mightve', 'arrange', 'temperatures', 'painful', 'fades', 'skin', 'housemates', 'friends', 'brilliant', 'house', 'sector', 'insomuch', 'wanted', 'anyway', 'tube', 'tension', 'drugs', 'shes', 'suffered', 'total', 'italy', 'needle', 'wasnt', 'measured', 'amoxycillin', 'internal', 'per', 'roasting', 'throwing', 'navel', 'center', 'eat', 'vitamins', 'menstrual', 'cramps', 'ors', 'times', 'front', 'sinuses', 'checked', 'change', 'increased', 'persistently', 'asked', 'jo', 'sloane', 'play', 'done', 'kilometres', 'abs', 'requiring', 'none', 'indentation', 'acetaminophen', 'coughs', 'asthmas', 'told', 'constipated', 'diseases', 'timing', 'birth', 'chemist', 'reccurently', 'hz', 'forty', 'stays', 'loin', 'ibs', 'mebeverine', 'changed', 'talked', 'counsellors', 'ways', 'inter', 'meantimes', 'line', 'regularly', 'toilet', 'pardon', 'ninety', 'definitely', 'big', 'colour', 'usuallycome', 'implant', 'close', 'spreading', 'regular', 'small', 'air', 'isnt', 'shivery', 'straightaway', 'color', 'starting', 'salts', 'sips', 'bullock', 'st', 'cherry', 'lemon', 'severely', 'unwell', 'spacer', 'daytime', 'theyll', 'ups', 'etc', 'tick', 'started', 'wheres', 'calf', 'feb', 'turns', 'bugs', 'examined', 'oops', 'bleeds', 'coughing', 'prescribe', 'pills', 'either', 'sick', 'bothered', 'throw', 'worked', 'feverish', 'confirm', 'intervals', 'senstation', 'okand', 'prograe', 'persistant', 'live', 'slightly', 'stronger', 'apartment', 'clerkenwell']\n"
     ]
    }
   ],
   "source": [
    "# Read word list\n",
    "with open(\"../data/eval/word_list.txt\", \"r\") as file:\n",
    "    # Read all lines and strip newline characters\n",
    "    word_list = [line.strip() for line in file]\n",
    "\n",
    "# Display the list of words\n",
    "print(word_list)"
   ]
  },
  {
   "cell_type": "code",
   "execution_count": 5,
   "metadata": {},
   "outputs": [],
   "source": [
    "# Use the Azure Healthcare NER API to analyze the document\n",
    "documents = [\" \".join(word_list)]\n",
    "poller = client.begin_analyze_healthcare_entities(documents)\n",
    "results = poller.result()\n",
    "\n",
    "# Process the results\n",
    "entities = []\n",
    "\n",
    "for result in results:\n",
    "    if not result.is_error:\n",
    "        for entity in result.entities:\n",
    "            entity_info = {\n",
    "                \"text\": entity.text,\n",
    "                \"category\": entity.category,\n",
    "                \"subcategory\": entity.subcategory,\n",
    "                \"confidence_score\": entity.confidence_score,\n",
    "                \"normalized_text\": entity.normalized_text\n",
    "            }\n",
    "            entities.append(entity_info)\n",
    "    else:\n",
    "        print(f\"Error: {result.error.code} - {result.error.message}\")"
   ]
  },
  {
   "cell_type": "code",
   "execution_count": 6,
   "metadata": {},
   "outputs": [
    {
     "data": {
      "image/png": "[encoded data removed]",
      "text/plain": [
       "<Figure size 800x600 with 1 Axes>"
      ]
     },
     "metadata": {},
     "output_type": "display_data"
    }
   ],
   "source": [
    "import seaborn as sns\n",
    "import pandas as pd\n",
    "import matplotlib.pyplot as plt\n",
    "\n",
    "entities_df = pd.DataFrame(entities)\n",
    "\n",
    "plt.figure(figsize=(8,6))\n",
    "sns.countplot(y='category', data=entities_df)\n",
    "plt.title('Countplot of Categories')\n",
    "plt.show()"
   ]
  },
  {
   "cell_type": "code",
   "execution_count": 7,
   "metadata": {},
   "outputs": [
    {
     "data": {
      "text/plain": [
       "272"
      ]
     },
     "execution_count": 7,
     "metadata": {},
     "output_type": "execute_result"
    }
   ],
   "source": [
    "len(entities_df)"
   ]
  },
  {
   "cell_type": "markdown",
   "metadata": {},
   "source": [
    "## Generating Headers Using SOAP Framework\n",
    "\n",
    "Suggested context classes based on SOAP framework:\n",
    "- Patient Subjective Information\n",
    "- Objective Information (Examinations and Findings)\n",
    "- Doctor's Assessment\n",
    "- Treatment Plan\n",
    "\n",
    "We experiment using these SOAP headers to give a \"fixed\" chapter title for summarization purposes."
   ]
  },
  {
   "cell_type": "code",
   "execution_count": 42,
   "metadata": {},
   "outputs": [
    {
     "data": {
      "text/html": [
       "<div>\n",
       "<style scoped>\n",
       "    .dataframe tbody tr th:only-of-type {\n",
       "        vertical-align: middle;\n",
       "    }\n",
       "\n",
       "    .dataframe tbody tr th {\n",
       "        vertical-align: top;\n",
       "    }\n",
       "\n",
       "    .dataframe thead th {\n",
       "        text-align: right;\n",
       "    }\n",
       "</style>\n",
       "<table border=\"1\" class=\"dataframe\">\n",
       "  <thead>\n",
       "    <tr style=\"text-align: right;\">\n",
       "      <th></th>\n",
       "      <th>id</th>\n",
       "      <th>transcription</th>\n",
       "      <th>reference</th>\n",
       "      <th>mer</th>\n",
       "      <th>wil</th>\n",
       "      <th>wip</th>\n",
       "      <th>wer</th>\n",
       "    </tr>\n",
       "  </thead>\n",
       "  <tbody>\n",
       "    <tr>\n",
       "      <th>0</th>\n",
       "      <td>day1_consultation01_doctor</td>\n",
       "      <td>Hello. Hi. Yeah. OK. Hello. Good morning. How ...</td>\n",
       "      <td>Hello? Hi. Um, should we start? Yeah, okay. He...</td>\n",
       "      <td>0.204522</td>\n",
       "      <td>0.289805</td>\n",
       "      <td>0.710195</td>\n",
       "      <td>0.209253</td>\n",
       "    </tr>\n",
       "    <tr>\n",
       "      <th>1</th>\n",
       "      <td>day1_consultation01_patient</td>\n",
       "      <td>Hello, how are you? Hi, I just had some diarrh...</td>\n",
       "      <td>Hello, how are you? Oh hey, um, I've just had ...</td>\n",
       "      <td>0.200772</td>\n",
       "      <td>0.260102</td>\n",
       "      <td>0.739898</td>\n",
       "      <td>0.204724</td>\n",
       "    </tr>\n",
       "    <tr>\n",
       "      <th>2</th>\n",
       "      <td>day1_consultation02_doctor</td>\n",
       "      <td>Hello. Yes, I think it's a bit better. It's a ...</td>\n",
       "      <td>Hello? Uh uh yes. I think. It's a bit better. ...</td>\n",
       "      <td>0.140334</td>\n",
       "      <td>0.180209</td>\n",
       "      <td>0.819791</td>\n",
       "      <td>0.143143</td>\n",
       "    </tr>\n",
       "    <tr>\n",
       "      <th>3</th>\n",
       "      <td>day1_consultation02_patient</td>\n",
       "      <td>Hello. Can you hear me well? OK. Yes, so it's ...</td>\n",
       "      <td>Hello. Can you hear me well? OK. Yes. So, it's...</td>\n",
       "      <td>0.132124</td>\n",
       "      <td>0.176073</td>\n",
       "      <td>0.823927</td>\n",
       "      <td>0.133858</td>\n",
       "    </tr>\n",
       "    <tr>\n",
       "      <th>4</th>\n",
       "      <td>day1_consultation03_doctor</td>\n",
       "      <td>Hello. Hello there, it's Doctor Steve here. Ho...</td>\n",
       "      <td>Hello? Hello there. It's uh Doctor here. How c...</td>\n",
       "      <td>0.164768</td>\n",
       "      <td>0.227154</td>\n",
       "      <td>0.772846</td>\n",
       "      <td>0.168459</td>\n",
       "    </tr>\n",
       "  </tbody>\n",
       "</table>\n",
       "</div>"
      ],
      "text/plain": [
       "                            id  \\\n",
       "0   day1_consultation01_doctor   \n",
       "1  day1_consultation01_patient   \n",
       "2   day1_consultation02_doctor   \n",
       "3  day1_consultation02_patient   \n",
       "4   day1_consultation03_doctor   \n",
       "\n",
       "                                       transcription  \\\n",
       "0  Hello. Hi. Yeah. OK. Hello. Good morning. How ...   \n",
       "1  Hello, how are you? Hi, I just had some diarrh...   \n",
       "2  Hello. Yes, I think it's a bit better. It's a ...   \n",
       "3  Hello. Can you hear me well? OK. Yes, so it's ...   \n",
       "4  Hello. Hello there, it's Doctor Steve here. Ho...   \n",
       "\n",
       "                                           reference       mer       wil  \\\n",
       "0  Hello? Hi. Um, should we start? Yeah, okay. He...  0.204522  0.289805   \n",
       "1  Hello, how are you? Oh hey, um, I've just had ...  0.200772  0.260102   \n",
       "2  Hello? Uh uh yes. I think. It's a bit better. ...  0.140334  0.180209   \n",
       "3  Hello. Can you hear me well? OK. Yes. So, it's...  0.132124  0.176073   \n",
       "4  Hello? Hello there. It's uh Doctor here. How c...  0.164768  0.227154   \n",
       "\n",
       "        wip       wer  \n",
       "0  0.710195  0.209253  \n",
       "1  0.739898  0.204724  \n",
       "2  0.819791  0.143143  \n",
       "3  0.823927  0.133858  \n",
       "4  0.772846  0.168459  "
      ]
     },
     "execution_count": 42,
     "metadata": {},
     "output_type": "execute_result"
    }
   ],
   "source": [
    "import pandas as pd\n",
    "\n",
    "# Initialize file for transcriptions\n",
    "transcriptions_df = pd.read_csv(\"../data/eval/primock57_speechsdk_realtime.csv\")\n",
    "transcriptions_df.head()"
   ]
  },
  {
   "cell_type": "code",
   "execution_count": 12,
   "metadata": {},
   "outputs": [],
   "source": [
    "# for each transcription, get the headings for contexts\n",
    "import os\n",
    "from dotenv import load_dotenv\n",
    "from openai import AzureOpenAI\n",
    "\n",
    "# Set up Azure OpenAI client\n",
    "\n",
    "load_dotenv()\n",
    "AZURE_OPENAI_KEY = os.getenv(\"AZURE_OPENAI_KEY\")\n",
    "AZURE_OPENAI_ENDPOINT = os.getenv(\"AZURE_OPENAI_ENDPOINT\")\n",
    "\n",
    "openai_client = AzureOpenAI(\n",
    "    api_version=\"2024-02-01\", # Make sure to use the correct API version\n",
    "    api_key=AZURE_OPENAI_KEY,\n",
    "    azure_endpoint=AZURE_OPENAI_ENDPOINT,\n",
    ")"
   ]
  },
  {
   "cell_type": "code",
   "execution_count": 17,
   "metadata": {},
   "outputs": [],
   "source": [
    "# Function to generate SOAP headers using Azure OpenAI\n",
    "def generate_soap_titles(text):\n",
    "    # The prompt asks for SOAP headers based on the provided transcript\n",
    "    messages = [\n",
    "        {\n",
    "            \"role\": \"system\",\n",
    "            \"content\": \"You are an assistant that generates concise headers for transcripts. Your task is to analyze the text and create relevant titles based on context changes.\"\n",
    "\n",
    "        },\n",
    "        {\n",
    "            \"role\": \"user\",\n",
    "            \"content\": (\n",
    "                f\"Generate concise chapter titles for the following medical consultation transcript out of the following options based on the SOAP framework for medical notes: ['Patient Subjective Information', 'Objective Information (Examinations and Findings)', 'Doctor's Assessment', 'Treatment Plan']:\\n\\n{text}\\n\\n.\"\n",
    "                \"Each title should reflect the appropriate change in context.\"\n",
    "                \"After generating the titles, update them into the full transcript, with every single word, at the appropriate locations. Only show the full transcript with titles.\"\n",
    "                \"Here is a sample transcript from a medical consultation, the format should be something like this:\\n\\n\"\n",
    "                \n",
    "                \"1. Patient Subjective Information\"\n",
    "                \"You mentioned experiencing persistent headaches for the past two weeks, describing the pain as throbbing and located around your temples. You rated the pain as moderate but worsening, especially during periods of stress. You have no other associated symptoms like nausea or sensitivity to light. There's a family history of migraines, specifically with your mother, and you're not currently taking any prescription medications aside from over-the-counter pain relief.\"\n",
    "\n",
    "                \"2. Objective Information (Examinations and Findings)\"\n",
    "                \"Your vital signs are normal, with a blood pressure of 120/80 mmHg and a heart rate of 72 beats per minute. The neurological exam revealed no abnormalities—your reflexes and coordination are intact, and there’s no indication of infection in your ears, throat, or sinuses. I’m going to schedule a CT scan to rule out any structural causes of the headache, just to be thorough.\"\n",
    "\n",
    "                \"3. Doctor's Assessment\"\n",
    "                \"Based on your symptoms and the examination, it seems like you're experiencing tension headaches, likely stress-induced. Given your family history of migraines, we can’t rule out that possibility, so further evaluation might be needed. For now, I’m leaning toward a diagnosis of tension headaches.\"\n",
    "\n",
    "                \"4. Treatment Plan\"\n",
    "                \"To manage the headaches, I recommend keeping a diary to track any patterns or potential triggers, such as specific stressors or dietary changes. You can continue using over-the-counter NSAIDs, like ibuprofen, as needed for pain relief. I’ll also refer you to a neurologist for further evaluation regarding migraines. In the meantime, reducing stress through relaxation techniques like deep breathing or mindfulness may help. Let’s schedule a follow-up in two weeks to reassess how things are progressing.\"\n",
    "            )\n",
    "        }\n",
    "\n",
    "    ]\n",
    "\n",
    "    # Request to the Azure OpenAI API using chat completions\n",
    "    completion = openai_client.chat.completions.create(\n",
    "        model=\"gpt-4o-mini\",  # Replace with your Azure GPT model deployment name\n",
    "        messages=messages,\n",
    "        #max_tokens=200,  # Limit tokens for a concise response\n",
    "        temperature=0.7,  # Adjust to control creativity level\n",
    "        n=1,  # Number of responses\n",
    "    )\n",
    "\n",
    "    # Extract and return the generated titles\n",
    "    titles = completion.choices[0].message.content.strip()\n",
    "    return titles"
   ]
  },
  {
   "cell_type": "code",
   "execution_count": 18,
   "metadata": {},
   "outputs": [
    {
     "name": "stdout",
     "output_type": "stream",
     "text": [
      "1. Patient Subjective Information  \n",
      "Hello. Hi. Yeah. OK. Hello. Good morning. How can I help you this morning? Yeah, I'm sorry to hear that. And when you say diarrhoea, what do you mean by diarrhea? Do you mean you're going to the toilet more often or are your stools more loose? OK. And how many times a day are you going, let's say over the last couple of days? 6-7 times a day and you mentioned this mainly water tree. Have you noticed any other things like blood in your stools? OK. And you mentioned you've had some pain in your tummy as well. Whereabouts is the pain exactly? One side. And what side is that? That's right. OK. And can you describe the pain to me? OK. And there's a pain. Is that is it there all the time or does it come and go? Does the pain move anywhere else because on between your back? OK, fine. And you mentioned you've been feeling quite weak and shaky as well. What do you mean by shaky? Do you mean you've been having, have you been feeling feverish, for example? Measure your temperature then. OK OK. Any other symptoms like sweating or night? No. And any vomiting at all? You stop vomiting again and would you vomit? I know it's not nice thing to talk about but was it just normal food colour? Yeah. And there was no blood in your vomits, is that right? No. OK. And any other symptoms at all? So you mentioned the tummy pain, you mentioned diarrhoea, you mentioned the vomiting. Anything else that comes to mind? OK. OK, so you're drinking fluids. What kind of foods have you managed to eat? Anything? OK, fine. And so we started three days ago. The symptoms, are you aware of any triggers which may have caused the symptoms to kick on? So for example, things like take away foods or eating out or being around other people who would similar symptoms? Thank you. Do you remember where you ate? OK anyone else unwell with similar symptoms? OK, OK, fine. Right. And in terms of your your overall health, are you normally fitting well or? OK. And did you asthma well controlled? MMM. And you don't have any other tummy problem? Bowel problems I should be aware of, no. OK. And apart from the inhalers, do you take any other medications? OK, fine. And in terms of just your your day-to-day life, you said it's been affecting your life. In what way has it been affecting your life? OK. Yeah. And have you are you currently working at the moment? Would work. OK. Have you been going into work the last three days? Have you been at home? OK, that must be difficult for you then. Right. And you said, you mentioned you live with a wife and two children, is that right? All right, just a couple of other questions we need to ask. Do you smoke at all? And do you drink much more of alcohol? OK, so. \n",
      "\n",
      "2. Objective Information (Examinations and Findings)  \n",
      "Normally at this stage I'd like to examine you if that's OK but but haven't listened to your stories. I think just to recap, for the last three days you've been having loose dual diarrhea, a bit of tummy pain mainly on the left hand side and vomiting and feeling quite weak and lethargic. You mentioned you're having this Chinese take away as well three days ago and I wonder whether that might be the cause of your problems. \n",
      "\n",
      "3. Doctor's Assessment  \n",
      "It seems like you may have something called gastroenteritis, which essentially just the tummy bug or infection of your tummy. Mainly caused by viruses, but there can be a possibility of bacteria causing your symptoms. \n",
      "\n",
      "4. Treatment Plan  \n",
      "At this stage, what we'd recommend is just what we say conservative management. So I don't think you need anything like antibiotics, it's really just making sure you're well hydrated, so drinking plenty of fluids. There are things like diolite you can get from the pharmacy which helps replenish some of your minerals and vitamins. If you are having vomiting and diarrhea, I would also recommend taking some paracetamol, 2 tablets up to four times a day for the first few days can also help. I'll certainly advise you to take some time off work. Actually, I know you're quite keen to work. I would say next two to three days as it clears from your system. Just take some time off and rest. You know, if your symptoms haven't got better, you know, in three to four days, I'd like to come back and see you again. Because if it is ongoing, then we have to wonder whether there's something else causing symptoms and we may need to do further tests like taking a sample of your stool so we can test that, etcetera, etcetera. How's that sound? Do you have any questions for me? OK. Is the treatment plan clear? Great. Well, I wish you all the best. Thank you. Bye bye.\n"
     ]
    }
   ],
   "source": [
    "# Generate a formatted transcript with SOAP titles based on the transcribed text\n",
    "formatted_text = generate_soap_titles(transcriptions_df['transcription'].iloc[0]) # Doctor\n",
    "print(formatted_text)"
   ]
  },
  {
   "cell_type": "code",
   "execution_count": 19,
   "metadata": {},
   "outputs": [
    {
     "data": {
      "text/html": [
       "<div>\n",
       "<style scoped>\n",
       "    .dataframe tbody tr th:only-of-type {\n",
       "        vertical-align: middle;\n",
       "    }\n",
       "\n",
       "    .dataframe tbody tr th {\n",
       "        vertical-align: top;\n",
       "    }\n",
       "\n",
       "    .dataframe thead th {\n",
       "        text-align: right;\n",
       "    }\n",
       "</style>\n",
       "<table border=\"1\" class=\"dataframe\">\n",
       "  <thead>\n",
       "    <tr style=\"text-align: right;\">\n",
       "      <th></th>\n",
       "      <th>id</th>\n",
       "      <th>transcription</th>\n",
       "      <th>reference</th>\n",
       "      <th>mer</th>\n",
       "      <th>wil</th>\n",
       "      <th>wip</th>\n",
       "      <th>wer</th>\n",
       "    </tr>\n",
       "  </thead>\n",
       "  <tbody>\n",
       "    <tr>\n",
       "      <th>0</th>\n",
       "      <td>day1_consultation01_doctor</td>\n",
       "      <td>Hello. Hi. Yeah. OK. Hello. Good morning. How ...</td>\n",
       "      <td>Hello? Hi. Um, should we start? Yeah, okay. He...</td>\n",
       "      <td>0.204522</td>\n",
       "      <td>0.289805</td>\n",
       "      <td>0.710195</td>\n",
       "      <td>0.209253</td>\n",
       "    </tr>\n",
       "    <tr>\n",
       "      <th>2</th>\n",
       "      <td>day1_consultation02_doctor</td>\n",
       "      <td>Hello. Yes, I think it's a bit better. It's a ...</td>\n",
       "      <td>Hello? Uh uh yes. I think. It's a bit better. ...</td>\n",
       "      <td>0.140334</td>\n",
       "      <td>0.180209</td>\n",
       "      <td>0.819791</td>\n",
       "      <td>0.143143</td>\n",
       "    </tr>\n",
       "    <tr>\n",
       "      <th>4</th>\n",
       "      <td>day1_consultation03_doctor</td>\n",
       "      <td>Hello. Hello there, it's Doctor Steve here. Ho...</td>\n",
       "      <td>Hello? Hello there. It's uh Doctor here. How c...</td>\n",
       "      <td>0.164768</td>\n",
       "      <td>0.227154</td>\n",
       "      <td>0.772846</td>\n",
       "      <td>0.168459</td>\n",
       "    </tr>\n",
       "    <tr>\n",
       "      <th>6</th>\n",
       "      <td>day1_consultation04_doctor</td>\n",
       "      <td>Alex. Oh, hello. Hey, can you hear me? OK, Gra...</td>\n",
       "      <td>Alex. Ohh. Hello? Hi, can you hear me? OK grea...</td>\n",
       "      <td>0.168539</td>\n",
       "      <td>0.234423</td>\n",
       "      <td>0.765577</td>\n",
       "      <td>0.174757</td>\n",
       "    </tr>\n",
       "    <tr>\n",
       "      <th>8</th>\n",
       "      <td>day1_consultation05_doctor</td>\n",
       "      <td>Hello. Good morning, Kim. How can I help you t...</td>\n",
       "      <td>Hello? . Good morning, Tim. Um, how can I help...</td>\n",
       "      <td>0.181400</td>\n",
       "      <td>0.250073</td>\n",
       "      <td>0.749927</td>\n",
       "      <td>0.183940</td>\n",
       "    </tr>\n",
       "  </tbody>\n",
       "</table>\n",
       "</div>"
      ],
      "text/plain": [
       "                           id  \\\n",
       "0  day1_consultation01_doctor   \n",
       "2  day1_consultation02_doctor   \n",
       "4  day1_consultation03_doctor   \n",
       "6  day1_consultation04_doctor   \n",
       "8  day1_consultation05_doctor   \n",
       "\n",
       "                                       transcription  \\\n",
       "0  Hello. Hi. Yeah. OK. Hello. Good morning. How ...   \n",
       "2  Hello. Yes, I think it's a bit better. It's a ...   \n",
       "4  Hello. Hello there, it's Doctor Steve here. Ho...   \n",
       "6  Alex. Oh, hello. Hey, can you hear me? OK, Gra...   \n",
       "8  Hello. Good morning, Kim. How can I help you t...   \n",
       "\n",
       "                                           reference       mer       wil  \\\n",
       "0  Hello? Hi. Um, should we start? Yeah, okay. He...  0.204522  0.289805   \n",
       "2  Hello? Uh uh yes. I think. It's a bit better. ...  0.140334  0.180209   \n",
       "4  Hello? Hello there. It's uh Doctor here. How c...  0.164768  0.227154   \n",
       "6  Alex. Ohh. Hello? Hi, can you hear me? OK grea...  0.168539  0.234423   \n",
       "8  Hello? . Good morning, Tim. Um, how can I help...  0.181400  0.250073   \n",
       "\n",
       "        wip       wer  \n",
       "0  0.710195  0.209253  \n",
       "2  0.819791  0.143143  \n",
       "4  0.772846  0.168459  \n",
       "6  0.765577  0.174757  \n",
       "8  0.749927  0.183940  "
      ]
     },
     "execution_count": 19,
     "metadata": {},
     "output_type": "execute_result"
    }
   ],
   "source": [
    "# Filter out doctors' transcripts only\n",
    "doctor_transcriptions_df = transcriptions_df[transcriptions_df[\"id\"].str.contains(\"doctor\")].copy()\n",
    "doctor_transcriptions_df.head()"
   ]
  },
  {
   "cell_type": "code",
   "execution_count": 20,
   "metadata": {},
   "outputs": [
    {
     "name": "stderr",
     "output_type": "stream",
     "text": [
      "100%|██████████| 57/57 [06:34<00:00,  6.92s/it]\n"
     ]
    },
    {
     "data": {
      "text/plain": [
       "0    1. Patient Subjective Information  \\nHello. Hi...\n",
       "2    1. Patient Subjective Information  \\nHello. Ye...\n",
       "4    1. Patient Subjective Information  \\nHello. He...\n",
       "6    1. Patient Subjective Information  \\nAlex. Oh,...\n",
       "8    1. Patient Subjective Information  \\nHello. Go...\n",
       "Name: titled_transcription, dtype: object"
      ]
     },
     "execution_count": 20,
     "metadata": {},
     "output_type": "execute_result"
    }
   ],
   "source": [
    "# Generate titles for doctors' transcripts only\n",
    "from tqdm import tqdm\n",
    "tqdm.pandas()\n",
    "\n",
    "doctor_transcriptions_df[\"titled_transcription\"] = doctor_transcriptions_df[\"transcription\"].progress_apply(lambda x: generate_soap_titles(x))\n",
    "doctor_transcriptions_df[\"titled_transcription\"].head()"
   ]
  },
  {
   "cell_type": "code",
   "execution_count": 71,
   "metadata": {},
   "outputs": [
    {
     "name": "stdout",
     "output_type": "stream",
     "text": [
      "1. Patient Subjective Information  \n",
      "Hello. Hi. Yeah. OK. Hello. Good morning. How can I help you this morning? Yeah, I'm sorry to hear that. And when you say diarrhoea, what do you mean by diarrhea? Do you mean you're going to the toilet more often or are your stools more loose? OK. And how many times a day are you going, let's say over the last couple of days? 6-7 times a day and you mentioned this mainly water tree. Have you noticed any other things like blood in your stools? OK. And you mentioned you've had some pain in your tummy as well. Whereabouts is the pain exactly? One side. And what side is that? That's right. OK. And can you describe the pain to me? OK. And there's a pain. Is that is it there all the time or does it come and go? Does the pain move anywhere else because on between your back? OK, fine. And you mentioned you've been feeling quite weak and shaky as well. What do you mean by shaky? Do you mean you've been having, have you been feeling feverish, for example? Measure your temperature then. OK OK. Any other symptoms like sweating or night? No. And any vomiting at all? You stop vomiting again and would you vomit? I know it's not nice thing to talk about but was it just normal food colour? Yeah. And there was no blood in your vomits, is that right? No. OK. And any other symptoms at all? So you mentioned the tummy pain, you mentioned diarrhoea, you mentioned the vomiting. Anything else that comes to mind? OK. OK, so you're drinking fluids. What kind of foods have you managed to eat? Anything? OK, fine. And so we started three days ago. The symptoms, are you aware of any triggers which may have caused the symptoms to kick on? So for example, things like take away foods or eating out or being around other people who would similar symptoms? Thank you. Do you remember where you ate? OK anyone else unwell with similar symptoms? OK, OK, fine. Right. And in terms of your your overall health, are you normally fitting well or? OK. And did you asthma well controlled? MMM. And you don't have any other tummy problem? Bowel problems I should be aware of, no. OK. And apart from the inhalers, do you take any other medications? OK, fine. And in terms of just your your day-to-day life, you said it's been affecting your life. In what way has it been affecting your life? OK. Yeah. And have you are you currently working at the moment? Would work. OK. Have you been going into work the last three days? Have you been at home? OK, that must be difficult for you then. Right. And you said, you mentioned you live with a wife and two children, is that right? All right, just a couple of other questions we need to ask. Do you smoke at all? And do you drink much more of alcohol? OK, so. \n",
      "\n",
      "2. Objective Information (Examinations and Findings)  \n",
      "Normally at this stage I'd like to examine you if that's OK but but haven't listened to your stories. I think just to recap, for the last three days you've been having loose dual diarrhea, a bit of tummy pain mainly on the left hand side and vomiting and feeling quite weak and lethargic. You mentioned you're having this Chinese take away as well three days ago and I wonder whether that might be the cause of your problems. \n",
      "\n",
      "3. Doctor's Assessment  \n",
      "It seems like you may have something. Called gastroenteritis. Which essentially just the tummy bug or infection of your of your tummy. Mainly caused by viruses, but they can be a possibility of bacteria causing your symptoms. \n",
      "\n",
      "4. Treatment Plan  \n",
      "At this stage, what what we'd recommend is just what we say conservative management. So I don't think you need anything like antibiotics is really just making sure you're well hydrated, so drinking plenty of fluids. There are things like diolite you can get from the pharmacy which it's it helps replenish some of your minerals and vitamins. And if you are having vomiting and diarrhea, I would soon recommend that first, you know, first couple of days. If you are feeling feverish and weak, taking some paracetamol, 2 tablets up to four times a day for the first few days can also help. I'll certainly advise you to take some type of work. Actually I know you're quite keen to work. I would say next to two to three days as clears from your system. Just take some time off and rest. You know, if your symptoms haven't got better, you know, in in three to four days, I'd like to come back and see you again. Because if it is ongoing, then we have to wonder whether there's something else causing symptoms and we may need to do further tests like taking a sample of your store so we can test that, etcetera, etcetera. How's that sound? Do you have any questions for me? OK. Is it, is the treatment plan clear? Great. Well, I wish you all the best. Thank you. Bye bye.\n"
     ]
    }
   ],
   "source": [
    "print(doctor_transcriptions_df[\"titled_transcription\"].iloc[0])"
   ]
  },
  {
   "cell_type": "code",
   "execution_count": 39,
   "metadata": {},
   "outputs": [],
   "source": [
    "# Save locally\n",
    "# doctor_transcriptions_df.to_csv(\"../data/eval/doctor_soap_transcriptions.csv\", index=False)"
   ]
  },
  {
   "cell_type": "markdown",
   "metadata": {},
   "source": [
    "# Proposed Entities-Context Mapping\n",
    "\n",
    "We are concerned with obtaining a subset of entities for each context to innovate a scalable solution in case the number of phrases exceeded the required limit for using Speech SDK. \n",
    "\n",
    "We implement the following mappings based on contextual knowledge:\n",
    "- Patient Subjective Information: SymptomOrSign, MedicationClass, MedicationForm\n",
    "- Objective Information (Examinations and Findings): SymptomOrSign, MedicationClass, MedicationForm\n",
    "- Doctor's Assessment: SymptomOrSign, Diagnosis, MedicationClass, MedicationForm, ExaminationName\n",
    "- Treatment Plan: TreatmentName, ExaminationName, MedicationClass, MedicationForm, AdministrativeEvent"
   ]
  },
  {
   "cell_type": "code",
   "execution_count": 8,
   "metadata": {},
   "outputs": [],
   "source": [
    "subjective_and_objective_list = entities_df[entities_df['category'].isin(['SymptomOrSign', 'MedicationClass', 'MedicationForm'])][\"text\"].tolist()\n",
    "assessment_list = entities_df[entities_df['category'].isin(['SymptomOrSign', 'Diagnosis', 'MedicationClass', 'MedicationForm', 'ExaminationName'])][\"text\"].tolist()\n",
    "treatment_list = entities_df[entities_df['category'].isin(['TreatmentName', 'ExaminationName', 'MedicationClass', 'MedicationForm', 'AdministrativeEvent'])][\"text\"].tolist()"
   ]
  },
  {
   "cell_type": "markdown",
   "metadata": {},
   "source": [
    "## Demo"
   ]
  },
  {
   "cell_type": "code",
   "execution_count": 9,
   "metadata": {},
   "outputs": [],
   "source": [
    "# OpenAI function to generate SOAP title\n",
    "def classify_context(text):\n",
    "    messages = [\n",
    "        {\n",
    "            \"role\": \"system\",\n",
    "            \"content\": \"You are an assistant that generates concise headers for transcripts. Your task is to analyze the text and assign a relevant title to the text.\"\n",
    "\n",
    "        },\n",
    "        {\n",
    "            \"role\": \"user\",\n",
    "            \"content\": (\n",
    "                f\"Assign an appropriate title for the following text chunk from part of a medical consultation transcript out of the following options based on the SOAP framework for medical notes: ['Patient Subjective Information', 'Objective Information (Examinations and Findings)', 'Doctor's Assessment', 'Treatment Plan']:\\n\\n{text}\\n\\n.\"\n",
    "                \"Here are some sample text chunks from a medical consultation:\\n\\n\"\n",
    "                \n",
    "                \"Input text: You mentioned experiencing persistent headaches for the past two weeks, describing the pain as throbbing and located around your temples. You rated the pain as moderate but worsening, especially during periods of stress. You have no other associated symptoms like nausea or sensitivity to light. There's a family history of migraines, specifically with your mother, and you're not currently taking any prescription medications aside from over-the-counter pain relief.\"\n",
    "                \"Output: Patient Subjective Information\"\n",
    "\n",
    "                \"Input text: Your vital signs are normal, with a blood pressure of 120/80 mmHg and a heart rate of 72 beats per minute. The neurological exam revealed no abnormalities—your reflexes and coordination are intact, and there’s no indication of infection in your ears, throat, or sinuses. I’m going to schedule a CT scan to rule out any structural causes of the headache, just to be thorough.\"\n",
    "                \"Output: Objective Information (Examinations and Findings)\"\n",
    "\n",
    "                \"Input text: Based on your symptoms and the examination, it seems like you're experiencing tension headaches, likely stress-induced. Given your family history of migraines, we can’t rule out that possibility, so further evaluation might be needed. For now, I’m leaning toward a diagnosis of tension headaches.\"\n",
    "                \"Output: Doctor's Assessment\"\n",
    "\n",
    "                \"Input text: To manage the headaches, I recommend keeping a diary to track any patterns or potential triggers, such as specific stressors or dietary changes. You can continue using over-the-counter NSAIDs, like ibuprofen, as needed for pain relief. I’ll also refer you to a neurologist for further evaluation regarding migraines. In the meantime, reducing stress through relaxation techniques like deep breathing or mindfulness may help. Let’s schedule a follow-up in two weeks to reassess how things are progressing.\"\n",
    "                \"Output: Treatment Plan\"\n",
    "            )\n",
    "        }\n",
    "\n",
    "    ]\n",
    "\n",
    "    # Request to the Azure OpenAI API using chat completions\n",
    "    completion = openai_client.chat.completions.create(\n",
    "        model=\"gpt-4o-mini\",  # Replace with your Azure GPT model deployment name\n",
    "        messages=messages,\n",
    "        #max_tokens=200,  # Limit tokens for a concise response\n",
    "        temperature=0.7,  # Adjust to control creativity level\n",
    "        n=1,  # Number of responses\n",
    "    )\n",
    "\n",
    "    # Extract and return the generated titles\n",
    "    title = completion.choices[0].message.content.strip()\n",
    "    return title"
   ]
  },
  {
   "cell_type": "code",
   "execution_count": 10,
   "metadata": {},
   "outputs": [],
   "source": [
    "import random\n",
    "import threading\n",
    "import azure.cognitiveservices.speech as speechsdk\n",
    "\n",
    "def update_phrase_list(speech_recognizer, context): # Insert phrase list\n",
    "    \"\"\"Update the phrase list based on the classified context.\"\"\"\n",
    "    phrase_list = speechsdk.PhraseListGrammar.from_recognizer(speech_recognizer)\n",
    "    \n",
    "    # Clear the existing phrase list\n",
    "    phrase_list.clear()\n",
    "\n",
    "    # Add phrases based on the context\n",
    "    if context in [\"Patient Subjective Information\", \"Objective Information (Examinations and Findings)\"]:\n",
    "        for word in subjective_and_objective_list:\n",
    "            phrase_list.addPhrase(word)\n",
    "    elif context == \"Doctor's Assessment\":\n",
    "        for word in assessment_list:\n",
    "            phrase_list.addPhrase(word)\n",
    "    elif context == \"Treatment Plan\":\n",
    "        for word in treatment_list:\n",
    "            phrase_list.addPhrase(word)\n",
    "\n",
    "    print(f\"Updated Phrase List for context: {context}\")\n",
    "    \n",
    "def process_transcriptions_periodically(interval, transcriptions, speech_recognizer):\n",
    "    \"\"\"Process and classify transcriptions every `interval` seconds.\"\"\"\n",
    "    # Collect transcription data for classification\n",
    "    collected_transcriptions = ' '.join([entry['transcription'] for entry in transcriptions])\n",
    "\n",
    "    # Perform classification of the conversation context\n",
    "    context = classify_context(collected_transcriptions)\n",
    "    print(f\"Transcriptions: {transcriptions}\")\n",
    "    print(f\"Classified Context: {context}\")\n",
    "\n",
    "    # Update the phrase list based on the context\n",
    "    update_phrase_list(speech_recognizer, context)\n",
    "    \n",
    "    # Reset the transcriptions for the next interval\n",
    "    transcriptions.clear()\n",
    "    \n",
    "    # Schedule the next collection\n",
    "    threading.Timer(interval, process_transcriptions_periodically, [interval, transcriptions, speech_recognizer]).start()"
   ]
  },
  {
   "cell_type": "code",
   "execution_count": 13,
   "metadata": {},
   "outputs": [
    {
     "name": "stdout",
     "output_type": "stream",
     "text": [
      "SessionStarted event\n",
      "Transcriptions: []\n",
      "Classified Context: Patient Subjective Information\n",
      "Updated Phrase List for context: Patient Subjective Information\n",
      "TRANSCRIBED:\n",
      "\tText=To manage the headaches, I recommend keeping a diary to track any patterns or potential triggers, such as specific stresses or dietary changes.\n",
      "\tSpeaker ID=Guest-1\n",
      "TRANSCRIBED:\n",
      "\tText=To manage the headaches, I recommend keeping a diary to track any patterns or potential triggers, such as specific stresses or dietary changes.\n",
      "\tSpeaker ID=Guest-1\n",
      "Transcriptions: [{'speaker_id': 'Guest-1', 'transcription': 'To manage the headaches, I recommend keeping a diary to track any patterns or potential triggers, such as specific stresses or dietary changes.'}]\n",
      "Classified Context: Treatment Plan\n",
      "Updated Phrase List for context: Treatment Plan\n",
      "TRANSCRIBED:\n",
      "\tText=You can continue using over the counter NSAIDs like ibuprofen as needed for pain relief.\n",
      "\tSpeaker ID=Guest-1\n",
      "TRANSCRIBED:\n",
      "\tText=You can continue using over the counter NSAIDs like ibuprofen as needed for pain relief.\n",
      "\tSpeaker ID=Guest-1\n",
      "Transcriptions: [{'speaker_id': 'Guest-1', 'transcription': 'You can continue using over the counter NSAIDs like ibuprofen as needed for pain relief.'}]\n",
      "Classified Context: Treatment Plan\n",
      "Updated Phrase List for context: Treatment Plan\n",
      "Transcriptions: []\n",
      "Classified Context: Patient Subjective Information\n",
      "Updated Phrase List for context: Patient Subjective Information\n",
      "TRANSCRIBED:\n",
      "\tText=Your vital signs are normal, with a blood pressure of 120 out of 80mm and a heart rate of 72 beats per minute. The neurological exam revealed no umm abnormalities. Your reflexes and coordination are intact, and there's no indication of infection in your ears, throat, or sinuses. I'm going to schedule a CT scan to rule out any structural causes of the headache, just to be thorough.\n",
      "\tSpeaker ID=Guest-1\n",
      "TRANSCRIBED:\n",
      "\tText=Your vital signs are normal, with a blood pressure of 120 out of 80mm and a heart rate of 72 beats per minute. The neurological exam revealed no umm abnormalities. Your reflexes and coordination are intact, and there's no indication of infection in your ears, throat, or sinuses. I'm going to schedule a CT scan to rule out any structural causes of the headache, just to be thorough.\n",
      "\tSpeaker ID=Guest-1\n",
      "TRANSCRIBED:\n",
      "\tText=\n",
      "\tSpeaker ID=Unknown\n",
      "Transcriptions: [{'speaker_id': 'Guest-1', 'transcription': \"Your vital signs are normal, with a blood pressure of 120 out of 80mm and a heart rate of 72 beats per minute. The neurological exam revealed no umm abnormalities. Your reflexes and coordination are intact, and there's no indication of infection in your ears, throat, or sinuses. I'm going to schedule a CT scan to rule out any structural causes of the headache, just to be thorough.\"}]\n",
      "Classified Context: Objective Information (Examinations and Findings)\n",
      "Updated Phrase List for context: Objective Information (Examinations and Findings)\n"
     ]
    },
    {
     "ename": "KeyboardInterrupt",
     "evalue": "",
     "output_type": "error",
     "traceback": [
      "\u001b[1;31m---------------------------------------------------------------------------\u001b[0m",
      "\u001b[1;31mKeyboardInterrupt\u001b[0m                         Traceback (most recent call last)",
      "Cell \u001b[1;32mIn[13], line 71\u001b[0m\n\u001b[0;32m     68\u001b[0m     conversation_transcriber\u001b[38;5;241m.\u001b[39mstop_transcribing_async()\n\u001b[0;32m     70\u001b[0m audio_config \u001b[38;5;241m=\u001b[39m speechsdk\u001b[38;5;241m.\u001b[39maudio\u001b[38;5;241m.\u001b[39mAudioConfig(use_default_microphone\u001b[38;5;241m=\u001b[39m\u001b[38;5;28;01mTrue\u001b[39;00m)\n\u001b[1;32m---> 71\u001b[0m transcribe_with_diarization(audio_config)\n",
      "Cell \u001b[1;32mIn[13], line 66\u001b[0m, in \u001b[0;36mtranscribe_with_diarization\u001b[1;34m(audio_config)\u001b[0m\n\u001b[0;32m     64\u001b[0m \u001b[38;5;66;03m# Waits for completion.\u001b[39;00m\n\u001b[0;32m     65\u001b[0m \u001b[38;5;28;01mwhile\u001b[39;00m \u001b[38;5;129;01mnot\u001b[39;00m transcribing_stop:\n\u001b[1;32m---> 66\u001b[0m     time\u001b[38;5;241m.\u001b[39msleep(\u001b[38;5;241m.5\u001b[39m)\n\u001b[0;32m     68\u001b[0m conversation_transcriber\u001b[38;5;241m.\u001b[39mstop_transcribing_async()\n",
      "\u001b[1;31mKeyboardInterrupt\u001b[0m: "
     ]
    },
    {
     "name": "stdout",
     "output_type": "stream",
     "text": [
      "TRANSCRIBED:\n",
      "\tText=\n",
      "\tSpeaker ID=Unknown\n",
      "TRANSCRIBED:\n",
      "\tText=\n",
      "\tSpeaker ID=Unknown\n",
      "TRANSCRIBED:\n",
      "\tText=\n",
      "\tSpeaker ID=Unknown\n",
      "Transcriptions: [{'speaker_id': 'Unknown', 'transcription': ''}, {'speaker_id': 'Unknown', 'transcription': ''}]\n",
      "Classified Context: Patient Subjective Information\n",
      "Updated Phrase List for context: Patient Subjective Information\n",
      "TRANSCRIBED:\n",
      "\tText=\n",
      "\tSpeaker ID=Unknown\n",
      "TRANSCRIBED:\n",
      "\tText=\n",
      "\tSpeaker ID=Unknown\n",
      "Transcriptions: [{'speaker_id': 'Unknown', 'transcription': ''}]\n",
      "Classified Context: Patient Subjective Information\n",
      "Updated Phrase List for context: Patient Subjective Information\n"
     ]
    }
   ],
   "source": [
    "import time\n",
    "import json\n",
    "\n",
    "AZURE_SPEECH_KEY = os.getenv(\"SPEECHSDK_API_KEY\")\n",
    "AZURE_SERVICE_REGION = os.getenv(\"SPEECHSDK_REGION\")\n",
    "\n",
    "# Main function for real-time speech diarization\n",
    "def transcribe_with_diarization(audio_config):\n",
    "    # This example requires environment variables named \"SPEECH_KEY\" and \"SPEECH_REGION\"\n",
    "    speech_config = speechsdk.SpeechConfig(subscription=AZURE_SPEECH_KEY, region=AZURE_SERVICE_REGION)\n",
    "    speech_config.speech_recognition_language=\"en-SG\"  # Set to Singaporean English setting\n",
    "\n",
    "    conversation_transcriber = speechsdk.transcription.ConversationTranscriber(speech_config=speech_config, audio_config=audio_config)\n",
    "\n",
    "    transcriptions = []  # List to store transcriptions temporarily\n",
    "    transcribing_stop = False\n",
    "\n",
    "    # Callbacks\n",
    "    def stop_cb(evt: speechsdk.SessionEventArgs):\n",
    "        #\"\"\"callback that signals to stop continuous recognition upon receiving an event `evt`\"\"\"\n",
    "        print('CLOSING on {}'.format(evt))\n",
    "        nonlocal transcribing_stop\n",
    "        transcribing_stop = True\n",
    "\n",
    "    def conversation_transcriber_recognition_canceled_cb(evt: speechsdk.SessionEventArgs):\n",
    "        print('Canceled event')\n",
    "\n",
    "    def conversation_transcriber_session_stopped_cb(evt: speechsdk.SessionEventArgs):\n",
    "        print('SessionStopped event')\n",
    "\n",
    "    def conversation_transcriber_transcribed_cb(evt: speechsdk.SpeechRecognitionEventArgs):\n",
    "        print('TRANSCRIBED:')\n",
    "        if evt.result.reason == speechsdk.ResultReason.RecognizedSpeech:\n",
    "            print('\\tText={}'.format(evt.result.text))\n",
    "            print('\\tSpeaker ID={}'.format(evt.result.speaker_id))\n",
    "\n",
    "            # Append to transcriptions data\n",
    "            transcriptions.append({\n",
    "                'speaker_id': evt.result.speaker_id,\n",
    "                'transcription': evt.result.text\n",
    "            })\n",
    "        elif evt.result.reason == speechsdk.ResultReason.NoMatch:\n",
    "            print('\\tNOMATCH: Speech could not be TRANSCRIBED: {}'.format(evt.result.no_match_details))\n",
    "\n",
    "    def conversation_transcriber_session_started_cb(evt: speechsdk.SessionEventArgs):\n",
    "        print('SessionStarted event')\n",
    "\n",
    "    # Connect callbacks to the events fired by the conversation transcriber\n",
    "    conversation_transcriber.transcribed.connect(conversation_transcriber_transcribed_cb)\n",
    "    conversation_transcriber.session_started.connect(conversation_transcriber_session_started_cb)\n",
    "    conversation_transcriber.session_stopped.connect(conversation_transcriber_session_stopped_cb)\n",
    "    conversation_transcriber.canceled.connect(conversation_transcriber_recognition_canceled_cb)\n",
    "    \n",
    "    # Stop transcribing on either session stopped or canceled events\n",
    "    conversation_transcriber.session_stopped.connect(stop_cb)\n",
    "    conversation_transcriber.canceled.connect(stop_cb)\n",
    "\n",
    "    conversation_transcriber.start_transcribing_async()\n",
    "\n",
    "    # Start the periodic processing of transcriptions\n",
    "    PROCESS_INTERVAL = 15 # in seconds\n",
    "    process_transcriptions_periodically(PROCESS_INTERVAL, transcriptions, conversation_transcriber)\n",
    "\n",
    "    # Waits for completion.\n",
    "    while not transcribing_stop:\n",
    "        time.sleep(.5)\n",
    "\n",
    "    conversation_transcriber.stop_transcribing_async()\n",
    "\n",
    "audio_config = speechsdk.audio.AudioConfig(use_default_microphone=True)\n",
    "transcribe_with_diarization(audio_config)"
   ]
  },
  {
   "cell_type": "markdown",
   "metadata": {},
   "source": [
    "# Further Extensions\n",
    "\n",
    "Other ways we can improve transcription is through post-processing:\n",
    "1. Post-processing the **audio**\n",
    "2. Post-processing the **text**\n",
    "\n",
    "Since we know from previous benchmarks that batch has a better recognition performance than real-time, we are able to run the entire script batch-wise after the conversation has ended (which takes 3-5 seconds), and compare word-by-word between the batch and real-time scripts.\n",
    "\n",
    "From there, we can offer suggestions on how to make edits to the original conversation transcription."
   ]
  }
 ],
 "metadata": {
  "kernelspec": {
   "display_name": "speechsdk",
   "language": "python",
   "name": "python3"
  },
  "language_info": {
   "codemirror_mode": {
    "name": "ipython",
    "version": 3
   },
   "file_extension": ".py",
   "mimetype": "text/x-python",
   "name": "python",
   "nbconvert_exporter": "python",
   "pygments_lexer": "ipython3",
   "version": "3.12.4"
  }
 },
 "nbformat": 4,
 "nbformat_minor": 2
}
