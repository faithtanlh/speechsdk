{
 "cells": [
  {
   "cell_type": "markdown",
   "metadata": {},
   "source": [
    "# Exploring Azure Text Analytics for Chapter Titles"
   ]
  },
  {
   "cell_type": "markdown",
   "metadata": {},
   "source": [
    "## Setting up Speech SDK and Speech Recognizer"
   ]
  },
  {
   "cell_type": "code",
   "execution_count": 1,
   "metadata": {},
   "outputs": [],
   "source": [
    "import os\n",
    "import time\n",
    "from dotenv import load_dotenv\n",
    "import azure.cognitiveservices.speech as speechsdk"
   ]
  },
  {
   "cell_type": "code",
   "execution_count": 2,
   "metadata": {},
   "outputs": [],
   "source": [
    "# Set up subscription info for the Speech Service\n",
    "load_dotenv() # Load environment variables such as Speech SDK API keys\n",
    "AZURE_SPEECH_KEY = os.getenv(\"SPEECHSDK_API_KEY\")\n",
    "AZURE_SERVICE_REGION = os.getenv(\"SPEECHSDK_REGION\")"
   ]
  },
  {
   "cell_type": "code",
   "execution_count": 48,
   "metadata": {},
   "outputs": [],
   "source": [
    "import re\n",
    "import textgrid\n",
    "\n",
    "def extract_text_from_textgrid(file_path, tier_name=None):\n",
    "    # Load the TextGrid file\n",
    "    tg = textgrid.TextGrid.fromFile(file_path)\n",
    "    \n",
    "    # Find the relevant tier (if tier_name is provided)\n",
    "    if tier_name:\n",
    "        tier = tg.getFirst(tier_name)\n",
    "    else:\n",
    "        # If no specific tier is mentioned, extract from the first tier\n",
    "        tier = tg[0]\n",
    "\n",
    "    # Extract the intervals with text and concatenate them\n",
    "    extracted_text = []\n",
    "    for interval in tier:\n",
    "        if interval.mark.strip():  # Only consider non-empty intervals\n",
    "            extracted_text.append(interval.mark)\n",
    "    \n",
    "    # Return all the concatenated text\n",
    "    return \" \".join(extracted_text)\n",
    "\n",
    "def remove_intents(text):\n",
    "    \"\"\"\n",
    "    Remove intents marked by <UNSURE>, <UNIN/>, etc. from the text.\n",
    "    \"\"\"\n",
    "    # Regular expression pattern to match any text within angle brackets including the brackets\n",
    "    pattern = r'<[^>]*>'\n",
    "    # Use re.sub to replace matches with an empty string\n",
    "    cleaned_text = re.sub(pattern, '', text)\n",
    "    # Optionally, you can remove extra spaces left after removing tags\n",
    "    cleaned_text = re.sub(r'\\s+', ' ', cleaned_text).strip()\n",
    "    return cleaned_text"
   ]
  },
  {
   "cell_type": "code",
   "execution_count": 49,
   "metadata": {},
   "outputs": [],
   "source": [
    "# Initialize Speech Service\n",
    "def initialize_speech_service(audio_file_path):\n",
    "    # speech_config = speechsdk.SpeechConfig(subscription=AZURE_SPEECH_KEY, region=AZURE_SERVICE_REGION)\n",
    "    speech_config = speechsdk.SpeechConfig(subscription=AZURE_SPEECH_KEY, region=AZURE_SERVICE_REGION)\n",
    "    audio_config = speechsdk.audio.AudioConfig(filename=audio_file_path)\n",
    "    return speechsdk.SpeechRecognizer(speech_config=speech_config, audio_config=audio_config)\n",
    "\n",
    "# Perform transcription on the audio file\n",
    "def transcribe_continuous_audio_file(recognizer):\n",
    "    recognized_speech = []\n",
    "\n",
    "    # Set a variable to manage the state of transcription\n",
    "    done = False\n",
    "\n",
    "    def handle_recognized(evt):\n",
    "        print(f\"Recognized: {evt.result.text}\")\n",
    "        recognized_speech.append(evt.result.text)\n",
    "    \n",
    "    def handle_canceled(evt):\n",
    "        print(f\"Recognition canceled: {evt.result.reason}\")\n",
    "        if evt.result.reason == speechsdk.CancellationReason.Error:\n",
    "            print(f\"Error details: {evt.result.error_details}\")\n",
    "\n",
    "        recognizer.stop_continuous_recognition()\n",
    "        nonlocal done\n",
    "        done = True\n",
    "\n",
    "    # Attach handlers for recognized results and any cancellations\n",
    "    recognizer.recognized.connect(handle_recognized)\n",
    "    recognizer.canceled.connect(handle_canceled)\n",
    "    \n",
    "    # Start continuous recognition\n",
    "    recognizer.start_continuous_recognition() # transcribe longer audio sessions or multiple sentences and handle the results asynchronously.\n",
    "    print(\"Transcribing...\")\n",
    "\n",
    "    # Wait for completion (i.e., done = True)\n",
    "    try:\n",
    "        import time\n",
    "        while not done:\n",
    "            time.sleep(.5)\n",
    "    except KeyboardInterrupt:\n",
    "        print(\"Transcription stopped by user.\")\n",
    "        recognizer.stop_continuous_recognition()\n",
    "\n",
    "    return \" \".join(recognized_speech)  # Return all the transcriptions concatenated"
   ]
  },
  {
   "cell_type": "code",
   "execution_count": null,
   "metadata": {},
   "outputs": [],
   "source": [
    "# recognizer = initialize_speech_service('../data/primock/day1_consultation01_doctor.wav') \n",
    "# hypothesis_text = transcribe_continuous_audio_file(recognizer)"
   ]
  },
  {
   "cell_type": "code",
   "execution_count": 5,
   "metadata": {},
   "outputs": [],
   "source": [
    "hypothesis_text = \"Hello. Hi. Yeah. OK. Hello. Good morning. How can I help you this morning? Yeah, I'm sorry to hear that. And when you say diarrhoea, what do you mean by diarrhea? Do you mean you're going to the toilet more often or are your stools more loose? OK. And how many times a day are you going, let's say over the last couple of days? 6-7 times a day and you mentioned this mainly water tree. Have you noticed any other things like blood in your stools? OK. And you mentioned you've had some pain in your tummy as well. Whereabouts is the pain exactly? One side. And what side is that? That's right. OK. And can you describe the pain to me? OK. And there's a pain. Is that is it there all the time or does it come and go? Does the pain move anywhere else because on between your back? OK, fine. And you mentioned you've been feeling quite weak and shaky as well. What do you mean by shaky? Do you mean you've been having, have you been feeling feverish, for example? Measure your temperature then. OK OK. Any other symptoms like sweating or night? No. And any vomiting at all? You stop vomiting again and would you vomit? I know it's not nice thing to talk about but was it just normal food colour? Yeah. And there was no blood in your vomits, is that right? No. OK. And any other symptoms at all? So you mentioned the tummy pain, you mentioned diarrhoea, you mentioned the vomiting. Anything else that comes to mind? OK. OK, so you're drinking fluids. What kind of foods have you managed to eat? Anything? OK, fine. And so we started three days ago. The symptoms, are you aware of any triggers which may have caused the symptoms to kick on? So for example, things like take away foods or eating out or being around other people who would similar symptoms? Thank you. Do you remember where you ate? OK anyone else unwell with similar symptoms? OK, OK, fine. Right. And in terms of your your overall health, are you normally fitting well or? OK. And did you asthma well controlled? MMM. And you don't have any other tummy problem? Bowel problems I should be aware of, no. OK. And apart from the inhalers, do you take any other medications? OK, fine. And in terms of just your your day-to-day life, you said it's been affecting your life. In what way has it been affecting your life? OK. Yeah. And have you are you currently working at the moment? Would work. OK. Have you been going into work the last three days? Have you been at home? OK, that must be difficult for you then. Right. And you said, you mentioned you live with a wife and two children, is that right? All right, just a couple of other questions we need to ask. Do you smoke at all? And do you drink much more of alcohol? OK, so. Normally at this stage I'd like to examine you if that's OK but but haven't listened to your stories. I think just to recap, for the last three days you've been having loose dual diarrhea, a bit of tummy pain mainly on the left hand side and vomiting and feeling quite weak and lethargic. You mentioned you're having this Chinese take away as well three days ago and I wonder whether that might be the cause of your problems. It seems like you may have something. Called gastroenteritis. Which essentially just the tummy bug or infection of your of your tummy. Mainly caused by viruses, but they can be a possibility of bacteria causing your symptoms. At this stage, what what we'd recommend is just what we say conservative management. So I don't think you need anything like antibiotics is really just making sure you're well hydrated, so drinking plenty of fluids. There are things like diolite you can get from the pharmacy which it's it helps replenish some of your minerals and vitamins. And if you are having vomiting and diarrhea, I would soon recommend that first, you know, first couple of days. If you are feeling feverish and weak, taking some paracetamol, 2 tablets up to four times a day for the first few days can also help. I'll certainly advise you to take some type of work. Actually I know you're quite keen to work. I would say next to two to three days as clears from your system. Just take some time off and rest. You know, if your symptoms haven't got better, you know, in in three to four days, I'd like to come back and see you again. Because if it is ongoing, then we have to wonder whether there's something else causing symptoms and we may need to do further tests like taking a sample of your store so we can test that, etcetera, etcetera. How's that sound? Do you have any questions for me? OK. Is it, is the treatment plan clear? Great. Well, I wish you all the best. Thank you. Bye bye.\""
   ]
  },
  {
   "cell_type": "code",
   "execution_count": 6,
   "metadata": {},
   "outputs": [
    {
     "data": {
      "text/plain": [
       "\"Hello. Hi. Yeah. OK. Hello. Good morning. How can I help you this morning? Yeah, I'm sorry to hear that. And when you say diarrhoea, what do you mean by diarrhea? Do you mean you're going to the toilet more often or are your stools more loose? OK. And how many times a day are you going, let's say over the last couple of days? 6-7 times a day and you mentioned this mainly water tree. Have you noticed any other things like blood in your stools? OK. And you mentioned you've had some pain in your tummy as well. Whereabouts is the pain exactly? One side. And what side is that? That's right. OK. And can you describe the pain to me? OK. And there's a pain. Is that is it there all the time or does it come and go? Does the pain move anywhere else because on between your back? OK, fine. And you mentioned you've been feeling quite weak and shaky as well. What do you mean by shaky? Do you mean you've been having, have you been feeling feverish, for example? Measure your temperature then. OK OK. Any other symptoms like sweating or night? No. And any vomiting at all? You stop vomiting again and would you vomit? I know it's not nice thing to talk about but was it just normal food colour? Yeah. And there was no blood in your vomits, is that right? No. OK. And any other symptoms at all? So you mentioned the tummy pain, you mentioned diarrhoea, you mentioned the vomiting. Anything else that comes to mind? OK. OK, so you're drinking fluids. What kind of foods have you managed to eat? Anything? OK, fine. And so we started three days ago. The symptoms, are you aware of any triggers which may have caused the symptoms to kick on? So for example, things like take away foods or eating out or being around other people who would similar symptoms? Thank you. Do you remember where you ate? OK anyone else unwell with similar symptoms? OK, OK, fine. Right. And in terms of your your overall health, are you normally fitting well or? OK. And did you asthma well controlled? MMM. And you don't have any other tummy problem? Bowel problems I should be aware of, no. OK. And apart from the inhalers, do you take any other medications? OK, fine. And in terms of just your your day-to-day life, you said it's been affecting your life. In what way has it been affecting your life? OK. Yeah. And have you are you currently working at the moment? Would work. OK. Have you been going into work the last three days? Have you been at home? OK, that must be difficult for you then. Right. And you said, you mentioned you live with a wife and two children, is that right? All right, just a couple of other questions we need to ask. Do you smoke at all? And do you drink much more of alcohol? OK, so. Normally at this stage I'd like to examine you if that's OK but but haven't listened to your stories. I think just to recap, for the last three days you've been having loose dual diarrhea, a bit of tummy pain mainly on the left hand side and vomiting and feeling quite weak and lethargic. You mentioned you're having this Chinese take away as well three days ago and I wonder whether that might be the cause of your problems. It seems like you may have something. Called gastroenteritis. Which essentially just the tummy bug or infection of your of your tummy. Mainly caused by viruses, but they can be a possibility of bacteria causing your symptoms. At this stage, what what we'd recommend is just what we say conservative management. So I don't think you need anything like antibiotics is really just making sure you're well hydrated, so drinking plenty of fluids. There are things like diolite you can get from the pharmacy which it's it helps replenish some of your minerals and vitamins. And if you are having vomiting and diarrhea, I would soon recommend that first, you know, first couple of days. If you are feeling feverish and weak, taking some paracetamol, 2 tablets up to four times a day for the first few days can also help. I'll certainly advise you to take some type of work. Actually I know you're quite keen to work. I would say next to two to three days as clears from your system. Just take some time off and rest. You know, if your symptoms haven't got better, you know, in in three to four days, I'd like to come back and see you again. Because if it is ongoing, then we have to wonder whether there's something else causing symptoms and we may need to do further tests like taking a sample of your store so we can test that, etcetera, etcetera. How's that sound? Do you have any questions for me? OK. Is it, is the treatment plan clear? Great. Well, I wish you all the best. Thank you. Bye bye.\""
      ]
     },
     "execution_count": 6,
     "metadata": {},
     "output_type": "execute_result"
    }
   ],
   "source": [
    "hypothesis_text"
   ]
  },
  {
   "cell_type": "markdown",
   "metadata": {},
   "source": [
    "## Set up Azure OpenAI"
   ]
  },
  {
   "cell_type": "code",
   "execution_count": 78,
   "metadata": {},
   "outputs": [],
   "source": [
    "# Set up OpenAI API key and endpoint\n",
    "openai_api_key = 'OPENAI_API_KEY'  # Replace with your API key\n",
    "openai_api_base = \"OPENAI_API_ENDPOINT\"  # Replace with your resource's URL"
   ]
  },
  {
   "cell_type": "code",
   "execution_count": 8,
   "metadata": {},
   "outputs": [],
   "source": [
    "from openai import AzureOpenAI\n",
    "\n",
    "# Set up Azure OpenAI client\n",
    "client = AzureOpenAI(\n",
    "    api_version=\"2024-02-01\", # Make sure to use the correct API version\n",
    "    api_key=openai_api_key,\n",
    "    azure_endpoint=openai_api_base,\n",
    ")"
   ]
  },
  {
   "cell_type": "markdown",
   "metadata": {},
   "source": [
    "### Generate Chapter Title by Parsing Text into GPT-4o-Mini"
   ]
  },
  {
   "cell_type": "markdown",
   "metadata": {},
   "source": [
    "GPT-4o-Mini is used for generating chapter title as it is the cheapest GPT model and it is sufficient for this function."
   ]
  },
  {
   "cell_type": "code",
   "execution_count": 9,
   "metadata": {},
   "outputs": [
    {
     "name": "stdout",
     "output_type": "stream",
     "text": [
      "Generated Chapter Title: Consultation on Gastroenteritis Symptoms\n"
     ]
    }
   ],
   "source": [
    "# Function to generate chapter titles using Azure OpenAI\n",
    "def generate_chapter_title_nb(text):\n",
    "    # The prompt asks for a brief summary suitable as a chapter title\n",
    "    messages = [\n",
    "        {\n",
    "            \"role\": \"system\",\n",
    "            \"content\": \"You are an assistant that generates concise chapter titles based on text.\"\n",
    "        },\n",
    "        {\n",
    "            \"role\": \"user\",\n",
    "            \"content\": f\"Generate a concise chapter title for the following text:\\n\\n{text}. Don't include a heading such as 'Chapter Title:'.\"\n",
    "        }\n",
    "    ]\n",
    "\n",
    "    # Request to the Azure OpenAI API using chat completions\n",
    "    completion = client.chat.completions.create(\n",
    "        model=\"gpt-4o-mini\",  # Replace with your Azure GPT model deployment name, e.g., 'gpt-35-turbo'\n",
    "        messages=messages,\n",
    "        max_tokens=20,  # Limit tokens for shorter, concise titles\n",
    "        temperature=0.7,  # Adjust to control creativity level\n",
    "        n=1,  # Number of responses\n",
    "    )\n",
    "\n",
    "    # Extract and return the generated title\n",
    "    title = completion.choices[0].message.content.strip()\n",
    "    return title\n",
    "\n",
    "# Generate a chapter title based on the transcribed text\n",
    "chapter_title = generate_chapter_title_nb(hypothesis_text)\n",
    "print(f\"Generated Chapter Title: {chapter_title}\")"
   ]
  },
  {
   "cell_type": "markdown",
   "metadata": {},
   "source": [
    "## Using Function from chaptertitle.py"
   ]
  },
  {
   "cell_type": "code",
   "execution_count": 10,
   "metadata": {},
   "outputs": [],
   "source": [
    "import sys\n",
    "\n",
    "sys.path.append(os.path.abspath('..'))\n",
    "from chaptertitle import generate_chapter_title"
   ]
  },
  {
   "cell_type": "code",
   "execution_count": 11,
   "metadata": {},
   "outputs": [],
   "source": [
    "document_text = \"\"\"\n",
    "In this chapter, we discuss the importance of data privacy in modern digital systems. \n",
    "We explore various encryption techniques and their roles in securing user data.\n",
    "\"\"\""
   ]
  },
  {
   "cell_type": "code",
   "execution_count": 12,
   "metadata": {},
   "outputs": [
    {
     "name": "stdout",
     "output_type": "stream",
     "text": [
      "Test Generate Chapter Title Function: Gastroenteritis: Diagnosis and Management\n"
     ]
    }
   ],
   "source": [
    "chapter_title_fn_test = generate_chapter_title(hypothesis_text, openai_api_key, openai_api_base)\n",
    "print(f\"Test Generate Chapter Title Function: {chapter_title_fn_test}\")"
   ]
  },
  {
   "cell_type": "code",
   "execution_count": 13,
   "metadata": {},
   "outputs": [
    {
     "name": "stdout",
     "output_type": "stream",
     "text": [
      "Test Generate Chapter Title Function: Securing User Data: The Role of Encryption in Privacy\n"
     ]
    }
   ],
   "source": [
    "chapter_title_fn_test2 = generate_chapter_title(document_text, openai_api_key, openai_api_base)\n",
    "print(f\"Test Generate Chapter Title Function: {chapter_title_fn_test2}\")"
   ]
  },
  {
   "cell_type": "markdown",
   "metadata": {},
   "source": [
    "### Generate multiple headings based on context and insert into transcript"
   ]
  },
  {
   "cell_type": "code",
   "execution_count": 14,
   "metadata": {},
   "outputs": [],
   "source": [
    "sample_meeting = \"Good morning, everyone! Thank you for joining this meeting. Today, we’ll discuss the latest advancements in technology that could impact our product line and explore how we can integrate these innovations into our strategy. Morning, Alice! I’m looking forward to hearing everyone’s thoughts. Me too! I think there’s a lot we can leverage in our upcoming campaigns. Absolutely, let’s make sure we cover how these advancements align with our overall goals. To kick things off, I want to highlight a few trends I’ve seen in the industry. First, there’s been significant progress in artificial intelligence and machine learning, particularly in predictive analytics. This could help us better understand customer behavior. That’s interesting, Alice. I’ve been reading about AI models that can analyze user data in real-time. Implementing this could enhance our product features considerably. For marketing, this could mean more personalized campaigns. Imagine being able to tailor offers based on user behavior in real time. While the potential is exciting, we should also address the challenges of integration. What do you think, Bob? One major concern is ensuring that our existing infrastructure can support these new technologies. We might need to upgrade our servers or invest in cloud solutions. That’s a valid point. We also need to consider the learning curve for our team. Training will be essential for effective implementation. Speaking of training, I’ve done some market research. Customers are increasingly looking for products that leverage AI. They want to see tangible benefits. That’s encouraging to hear. We need to position ourselves as a leader in adopting these technologies. Let’s explore what our competitors are doing as well. To wrap up, I suggest we form a small task force to dive deeper into these technologies and assess feasibility. Bob, can you lead that group? Sure! I’ll gather a few more team members and set up a brainstorming session. I’d like to be involved, especially to discuss how we can market these advancements effectively. Great! Let’s aim to reconvene next week with our findings. Thank you all for your insights today. I’m excited about the possibilities ahead. Let’s keep the momentum going! Thanks, everyone! Looking forward to the next steps. Me too! Have a great day! Bye, everyone!\""
   ]
  },
  {
   "cell_type": "code",
   "execution_count": 32,
   "metadata": {},
   "outputs": [],
   "source": [
    "# Function to generate chapter titles using Azure OpenAI\n",
    "def generate_multiple_chapter_titles_nb(text):\n",
    "    # The prompt asks for chapter titles based on the provided transcript\n",
    "    messages = [\n",
    "        {\n",
    "            \"role\": \"system\",\n",
    "            \"content\": \"You are an assistant that generates concise chapter titles for transcripts. Your task is to analyze the text and create relevant titles based on context changes.\"\n",
    "\n",
    "        },\n",
    "        {\n",
    "            \"role\": \"user\",\n",
    "            \"content\": (\n",
    "                f\"Generate concise chapter titles for the following text:\\n\\n{text}. Each title should reflect a significant change in context. Pick out important titles at your discretion.\"\n",
    "                \"After generating the titles, update them into the full transcript, with every single word, at the appropriate locations. Only show the full transcript with titles.\"\n",
    "                \"Here is a sample transcript from a project meeting, the format should be something like this:\\n\\n\"\n",
    "                \n",
    "                \"1. Opening and Introductions\\n\"\n",
    "                \"Hi, everyone. Thanks for joining the meeting today. Let's go around and introduce ourselves quickly. I'm John, leading the project.\\n\\n\"\n",
    "                \n",
    "                \"2. Project Overview\\n\"\n",
    "                \"As you know, we're working on the new app update, so I just want to give a quick overview of where we are. The design phase is complete, and the dev team has started coding.\\n\\n\"\n",
    "                \n",
    "                \"3. Current Challenges\\n\"\n",
    "                \"We've hit a couple of issues with the backend integration. Sarah, could you update us on the server-side challenges?\\n\\n\"\n",
    "                \n",
    "                \"4. Team Member Updates\\n\"\n",
    "                \"Now let's hear from the rest of the team. Mark, can you give us an update on the frontend progress?\\n\\n\"\n",
    "                \n",
    "                \"5. Future Steps and Deadlines\\n\"\n",
    "                \"We need to finalize the testing timeline. Everyone should aim to complete their sections by the end of next week. Any blockers we should address?\\n\\n\"\n",
    "                \n",
    "                \"6. Closing Remarks\\n\"\n",
    "                \"Great, thanks for all the updates. Let's regroup next Friday and ensure we're on track for the final release. Have a great weekend!\"\n",
    "            )\n",
    "        }\n",
    "\n",
    "    ]\n",
    "\n",
    "    # Request to the Azure OpenAI API using chat completions\n",
    "    completion = client.chat.completions.create(\n",
    "        model=\"gpt-4o-mini\",  # Replace with your Azure GPT model deployment name\n",
    "        messages=messages,\n",
    "        #max_tokens=200,  # Limit tokens for a concise response\n",
    "        temperature=0.7,  # Adjust to control creativity level\n",
    "        n=1,  # Number of responses\n",
    "    )\n",
    "\n",
    "    # Extract and return the generated titles\n",
    "    titles = completion.choices[0].message.content.strip()\n",
    "    return titles\n"
   ]
  },
  {
   "cell_type": "code",
   "execution_count": 33,
   "metadata": {},
   "outputs": [
    {
     "name": "stdout",
     "output_type": "stream",
     "text": [
      "1. Initial Inquiry  \n",
      "Hello. Hi. Yeah. OK. Hello. Good morning. How can I help you this morning?\n",
      "\n",
      "2. Symptom Assessment  \n",
      "Yeah, I'm sorry to hear that. And when you say diarrhoea, what do you mean by diarrhea? Do you mean you're going to the toilet more often or are your stools more loose? OK. And how many times a day are you going, let's say over the last couple of days?\n",
      "\n",
      "3. Pain and Additional Symptoms  \n",
      "6-7 times a day and you mentioned this mainly watery. Have you noticed any other things like blood in your stools? OK. And you mentioned you've had some pain in your tummy as well. Whereabouts is the pain exactly? One side. And what side is that? That's right. OK. And can you describe the pain to me?\n",
      "\n",
      "4. Further Symptom Exploration  \n",
      "OK. And there's a pain. Is that is it there all the time or does it come and go? Does the pain move anywhere else, like between your back? OK, fine. And you mentioned you've been feeling quite weak and shaky as well. What do you mean by shaky? Do you mean you've been feeling feverish, for example?\n",
      "\n",
      "5. Review of Other Symptoms  \n",
      "Measure your temperature then. OK OK. Any other symptoms like sweating or night? No. And any vomiting at all? You stopped vomiting again and would you vomit? I know it's not a nice thing to talk about but was it just normal food color? Yeah. And there was no blood in your vomits, is that right? No. OK. And any other symptoms at all?\n",
      "\n",
      "6. Dietary and Triggers Inquiry  \n",
      "So you mentioned the tummy pain, you mentioned diarrhoea, you mentioned the vomiting. Anything else that comes to mind? OK. OK, so you're drinking fluids. What kind of foods have you managed to eat? Anything? OK, fine. And so we started three days ago. The symptoms, are you aware of any triggers which may have caused the symptoms to kick on?\n",
      "\n",
      "7. Overall Health Assessment  \n",
      "So for example, things like take away foods or eating out or being around other people with similar symptoms? Thank you. Do you remember where you ate? OK anyone else unwell with similar symptoms? OK, OK, fine. Right. And in terms of your overall health, are you normally fit and well or? OK. And did you asthma well controlled? MMM. And you don't have any other tummy problems? Bowel problems I should be aware of, no.\n",
      "\n",
      "8. Lifestyle and Impact Discussion  \n",
      "OK. And apart from the inhalers, do you take any other medications? OK, fine. And in terms of just your day-to-day life, you said it's been affecting your life. In what way has it been affecting your life? OK. Yeah. And have you are you currently working at the moment? Would work. OK. Have you been going into work the last three days? Have you been at home? OK, that must be difficult for you then. \n",
      "\n",
      "9. Social Context  \n",
      "Right. And you said, you mentioned you live with a wife and two children, is that right? All right, just a couple of other questions we need to ask. Do you smoke at all? And do you drink much more alcohol?\n",
      "\n",
      "10. Examination and Conclusion  \n",
      "OK, so. Normally at this stage I'd like to examine you if that's OK but but having listened to your stories. I think just to recap, for the last three days you've been having loose stools, diarrhea, a bit of tummy pain mainly on the left-hand side and vomiting and feeling quite weak and lethargic. You mentioned you had this Chinese take away as well three days ago and I wonder whether that might be the cause of your problems.\n",
      "\n",
      "11. Diagnosis and Recommendations  \n",
      "It seems like you may have something called gastroenteritis, which is essentially just a tummy bug or infection of your tummy. Mainly caused by viruses, but there can be a possibility of bacteria causing your symptoms. At this stage, what we'd recommend is just what we say conservative management. So I don't think you need anything like antibiotics, it's really just making sure you're well hydrated, so drinking plenty of fluids.\n",
      "\n",
      "12. Follow-up and Questions  \n",
      "There are things like diolite you can get from the pharmacy which helps replenish some of your minerals and vitamins. If you are having vomiting and diarrhea, I would recommend that for the first couple of days. If you are feeling feverish and weak, taking some paracetamol, 2 tablets up to four times a day for the first few days can also help. I'll certainly advise you to take some time off work. Actually, I know you're quite keen to work. I would say next two to three days as it clears from your system. Just take some time off and rest. You know, if your symptoms haven't got better in three to four days, I'd like you to come back and see me again. Because if it is ongoing, then we have to wonder whether there's something else causing symptoms and we may need to do further tests like taking a sample of your stool so we can test that, etcetera, etcetera. How's that sound? Do you have any questions for me? OK. Is the treatment plan clear? Great. Well, I wish you all the best. Thank you. Bye bye.\n"
     ]
    }
   ],
   "source": [
    "# Generate a formatted transcript with chapter titles based on the transcribed text\n",
    "formatted_text = generate_multiple_chapter_titles_nb(hypothesis_text)\n",
    "print(formatted_text)"
   ]
  },
  {
   "cell_type": "code",
   "execution_count": 21,
   "metadata": {},
   "outputs": [
    {
     "name": "stdout",
     "output_type": "stream",
     "text": [
      "1. Opening and Introductions  \n",
      "Good morning, everyone! Thank you for joining this meeting. Today, we’ll discuss the latest advancements in technology that could impact our product line and explore how we can integrate these innovations into our strategy. Morning, Alice! I’m looking forward to hearing everyone’s thoughts. Me too! I think there’s a lot we can leverage in our upcoming campaigns.\n",
      "\n",
      "2. Industry Trends in Technology  \n",
      "Absolutely, let’s make sure we cover how these advancements align with our overall goals. To kick things off, I want to highlight a few trends I’ve seen in the industry. First, there’s been significant progress in artificial intelligence and machine learning, particularly in predictive analytics. This could help us better understand customer behavior.\n",
      "\n",
      "3. AI and Real-Time Data Analysis  \n",
      "That’s interesting, Alice. I’ve been reading about AI models that can analyze user data in real-time. Implementing this could enhance our product features considerably. For marketing, this could mean more personalized campaigns. Imagine being able to tailor offers based on user behavior in real time.\n",
      "\n",
      "4. Integration Challenges  \n",
      "While the potential is exciting, we should also address the challenges of integration. What do you think, Bob? One major concern is ensuring that our existing infrastructure can support these new technologies. We might need to upgrade our servers or invest in cloud solutions.\n",
      "\n",
      "5. Training and Team Readiness  \n",
      "That’s a valid point. We also need to consider the learning curve for our team. Training will be essential for effective implementation. Speaking of training, I’ve done some market research. Customers are increasingly looking for products that leverage AI. They want to see tangible benefits.\n",
      "\n",
      "6. Competitive Positioning  \n",
      "That’s encouraging to hear. We need to position ourselves as a leader in adopting these technologies. Let’s explore what our competitors are doing as well.\n",
      "\n",
      "7. Task Force and Next Steps  \n",
      "To wrap up, I suggest we form a small task force to dive deeper into these technologies and assess feasibility. Bob, can you lead that group? Sure! I’ll gather a few more team members and set up a brainstorming session. I’d like to be involved, especially to discuss how we can market these advancements effectively.\n",
      "\n",
      "8. Conclusion and Future Meeting  \n",
      "Great! Let’s aim to reconvene next week with our findings. Thank you all for your insights today. I’m excited about the possibilities ahead. Let’s keep the momentum going! Thanks, everyone! Looking forward to the next steps. Me too! Have a great day! Bye, everyone!\n"
     ]
    }
   ],
   "source": [
    "# Generate a formatted transcript with chapter titles based on the transcribed text\n",
    "formatted_text2 = generate_multiple_chapter_titles_nb(sample_meeting)\n",
    "print(formatted_text2)"
   ]
  },
  {
   "cell_type": "code",
   "execution_count": null,
   "metadata": {},
   "outputs": [],
   "source": []
  }
 ],
 "metadata": {
  "kernelspec": {
   "display_name": "Python 3",
   "language": "python",
   "name": "python3"
  },
  "language_info": {
   "codemirror_mode": {
    "name": "ipython",
    "version": 3
   },
   "file_extension": ".py",
   "mimetype": "text/x-python",
   "name": "python",
   "nbconvert_exporter": "python",
   "pygments_lexer": "ipython3",
   "version": "3.10.13"
  }
 },
 "nbformat": 4,
 "nbformat_minor": 2
}
