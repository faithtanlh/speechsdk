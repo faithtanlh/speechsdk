{
 "cells": [
  {
   "cell_type": "markdown",
   "metadata": {},
   "source": [
    "# Exploring Azure Text Analytics for Chapter Titles"
   ]
  },
  {
   "cell_type": "markdown",
   "metadata": {},
   "source": [
    "## Setting up Speech SDK and Speech Recognizer"
   ]
  },
  {
   "cell_type": "code",
   "execution_count": 1,
   "metadata": {},
   "outputs": [],
   "source": [
    "import os\n",
    "import time\n",
    "from dotenv import load_dotenv\n",
    "import azure.cognitiveservices.speech as speechsdk"
   ]
  },
  {
   "cell_type": "code",
   "execution_count": 2,
   "metadata": {},
   "outputs": [],
   "source": [
    "# Set up subscription info for the Speech Service\n",
    "load_dotenv() # Load environment variables such as Speech SDK API keys\n",
    "AZURE_SPEECH_KEY = os.getenv(\"SPEECHSDK_API_KEY\")\n",
    "AZURE_SERVICE_REGION = os.getenv(\"SPEECHSDK_REGION\")"
   ]
  },
  {
   "cell_type": "code",
   "execution_count": 4,
   "metadata": {},
   "outputs": [],
   "source": [
    "import re\n",
    "import textgrid\n",
    "\n",
    "def extract_text_from_textgrid(file_path, tier_name=None):\n",
    "    # Load the TextGrid file\n",
    "    tg = textgrid.TextGrid.fromFile(file_path)\n",
    "    \n",
    "    # Find the relevant tier (if tier_name is provided)\n",
    "    if tier_name:\n",
    "        tier = tg.getFirst(tier_name)\n",
    "    else:\n",
    "        # If no specific tier is mentioned, extract from the first tier\n",
    "        tier = tg[0]\n",
    "\n",
    "    # Extract the intervals with text and concatenate them\n",
    "    extracted_text = []\n",
    "    for interval in tier:\n",
    "        if interval.mark.strip():  # Only consider non-empty intervals\n",
    "            extracted_text.append(interval.mark)\n",
    "    \n",
    "    # Return all the concatenated text\n",
    "    return \" \".join(extracted_text)\n",
    "\n",
    "def remove_intents(text):\n",
    "    \"\"\"\n",
    "    Remove intents marked by <UNSURE>, <UNIN/>, etc. from the text.\n",
    "    \"\"\"\n",
    "    # Regular expression pattern to match any text within angle brackets including the brackets\n",
    "    pattern = r'<[^>]*>'\n",
    "    # Use re.sub to replace matches with an empty string\n",
    "    cleaned_text = re.sub(pattern, '', text)\n",
    "    # Optionally, you can remove extra spaces left after removing tags\n",
    "    cleaned_text = re.sub(r'\\s+', ' ', cleaned_text).strip()\n",
    "    return cleaned_text"
   ]
  },
  {
   "cell_type": "code",
   "execution_count": 5,
   "metadata": {},
   "outputs": [],
   "source": [
    "# Initialize Speech Service\n",
    "def initialize_speech_service(audio_file_path):\n",
    "    # speech_config = speechsdk.SpeechConfig(subscription=AZURE_SPEECH_KEY, region=AZURE_SERVICE_REGION)\n",
    "    speech_config = speechsdk.SpeechConfig(subscription=AZURE_SPEECH_KEY, region=AZURE_SERVICE_REGION)\n",
    "    audio_config = speechsdk.audio.AudioConfig(filename=audio_file_path)\n",
    "    return speechsdk.SpeechRecognizer(speech_config=speech_config, audio_config=audio_config)\n",
    "\n",
    "# Perform transcription on the audio file\n",
    "def transcribe_continuous_audio_file(recognizer):\n",
    "    recognized_speech = []\n",
    "\n",
    "    # Set a variable to manage the state of transcription\n",
    "    done = False\n",
    "\n",
    "    def handle_recognized(evt):\n",
    "        print(f\"Recognized: {evt.result.text}\")\n",
    "        recognized_speech.append(evt.result.text)\n",
    "    \n",
    "    def handle_canceled(evt):\n",
    "        print(f\"Recognition canceled: {evt.result.reason}\")\n",
    "        if evt.result.reason == speechsdk.CancellationReason.Error:\n",
    "            print(f\"Error details: {evt.result.error_details}\")\n",
    "\n",
    "        recognizer.stop_continuous_recognition()\n",
    "        nonlocal done\n",
    "        done = True\n",
    "\n",
    "    # Attach handlers for recognized results and any cancellations\n",
    "    recognizer.recognized.connect(handle_recognized)\n",
    "    recognizer.canceled.connect(handle_canceled)\n",
    "    \n",
    "    # Start continuous recognition\n",
    "    recognizer.start_continuous_recognition() # transcribe longer audio sessions or multiple sentences and handle the results asynchronously.\n",
    "    print(\"Transcribing...\")\n",
    "\n",
    "    # Wait for completion (i.e., done = True)\n",
    "    try:\n",
    "        import time\n",
    "        while not done:\n",
    "            time.sleep(.5)\n",
    "    except KeyboardInterrupt:\n",
    "        print(\"Transcription stopped by user.\")\n",
    "        recognizer.stop_continuous_recognition()\n",
    "\n",
    "    return \" \".join(recognized_speech)  # Return all the transcriptions concatenated"
   ]
  },
  {
   "cell_type": "code",
   "execution_count": 6,
   "metadata": {},
   "outputs": [
    {
     "name": "stdout",
     "output_type": "stream",
     "text": [
      "Transcribing...\n",
      "Recognized: Hello.\n",
      "Recognized: Hi. Yeah. OK. Hello. Good morning. So how can I help you this morning?\n",
      "Recognized: Yeah, I'm sorry to hear that. And when you say diarrhoea, what do you mean by diarrhea? Do you mean you're going to the toilet more often or are your stools more loose?\n",
      "Recognized: OK. And how many times a day are you going, let's say over the last couple of days?\n",
      "Recognized: 6-7 times a day and you mentioned this mainly water tree. Have you noticed any other things like blood in your stools?\n",
      "Recognized: OK. And you mentioned you've had some pain in your tummy as well. Whereabouts is the pain exactly?\n",
      "Recognized: One side. And what side is that?\n",
      "Recognized: That's right. OK. And can you describe the pain to me?\n",
      "Recognized: OK. And there's a pain. Is that is it there all the time or does it come and go?\n",
      "Recognized: Does the pain move anywhere else because on between your back?\n",
      "Recognized: OK, fine. And you mentioned you've been feeling quite weak and shaky as well. What do you mean by shaky? Do you mean you've been having, have you been feeling feverish, for example?\n",
      "Recognized: Measure your temperature then.\n",
      "Recognized: OK OK. Any other symptoms like sweating or night? No. And any vomiting at all?\n",
      "Recognized: You stop vomiting again and would you vomit? I know it's not nice thing to talk about but was it just normal food colour?\n",
      "Recognized: Yeah. And there was no blood in your vomits, is that right? No. OK. And any other symptoms at all? So you mentioned the tummy pain, you mentioned diarrhea, you mentioned the vomiting. Anything else that comes to mind?\n",
      "Recognized: OK.\n",
      "Recognized: OK, so you're drinking fluids. What kind of foods have you managed to eat? Anything?\n",
      "Recognized: OK, fine. And so we started three days ago. The symptoms, are you aware of any triggers which may have caused the symptoms to kick on? So for example, things like take away foods or eating out or being around other people who would similar symptoms?\n",
      "Recognized: Thank you. Do you remember where you ate?\n",
      "Recognized: OK anyone else unwell with similar symptoms?\n",
      "Recognized: OK, OK, fine.\n",
      "Recognized: Right. And in terms of your your overall health, are you normally fitting well or?\n",
      "Recognized: OK. And did you asthma well controlled?\n",
      "Recognized: And you don't have any other tummy problem? Bowel problems I should be aware of, no. OK. And apart from the inhalers, do you take any other medications?\n",
      "Recognized: OK, fine. And in terms of just your your day-to-day life, you said it's been affecting your life. In what way has it been affecting your life?\n",
      "Recognized: OK.\n",
      "Recognized: Yeah.\n",
      "Recognized: And have you are you currently working at the moment?\n",
      "Recognized: Would work.\n",
      "Recognized: OK. Have you been going into work the last three days? Have you been at home?\n",
      "Recognized: OK, that must be difficult for you then.\n",
      "Recognized: And you said, you mentioned you live with a wife and two children. Is that right? All right, just a couple of other questions we need to ask. Do you smoke at all?\n",
      "Recognized: And do you drink much more of alcohol?\n",
      "Recognized: OK, so.\n",
      "Recognized: Normally at this stage I'd like to examine you if that's OK but but haven't listened to your stories. I think just to recap, for the last three days you've been having loose dual diarrhea, bit of tummy pain mainly on the left hand side and vomiting and feeling quite weak and lethargic. You mentioned you're having this Chinese take away as well three days ago and I wonder whether that might be the cause of your problems. It seems like you may have something.\n",
      "Recognized: Called gastroenteritis.\n",
      "Recognized: Which is essentially just the tummy bug or infection of your of your tummy.\n",
      "Recognized: Mainly caused by viruses, but they can be a possibility of bacteria causing your symptoms.\n",
      "Recognized: At this stage, what what we'd recommend is just what we say conservative management. So I don't think you need anything like antibiotics is really just making sure you're well hydrated, so drinking plenty of fluids.\n",
      "Recognized: There are things like diolite you can get from the pharmacy which it's it helps replenish some of your minerals and vitamins.\n",
      "Recognized: And if you are having vomiting and diarrhea, I would soon recommend that first, you know, first couple of days. If you are feeling feverish and weak, taking some paracetamol, 2 tablets up to four times a day for the first few days can also help. I'll certainly advise you to take some time at work. Actually I know you're quite keen to work. I would say next to two to three days as clears from your system. Take some time off from rest.\n",
      "Recognized: You know, if your symptoms haven't got better, you know, in in three to four days, I'd like to come back and see you again.\n",
      "Recognized: Because if it is ongoing, then we have to wonder whether there's something else causing symptoms and we may need to do further tests like taking a sample of your store so we can test that, etcetera, etcetera.\n",
      "Recognized: How's that sound?\n",
      "Recognized: Do you have any questions for me?\n",
      "Recognized: OK. Is, is the treatment plan clear?\n",
      "Recognized: Great. Well, I wish you all the best. Thank you. Bye. Bye.\n",
      "Recognized: Bye.\n",
      "Recognition canceled: ResultReason.Canceled\n",
      "Info: on_underlying_io_bytes_received: Close frame received\n",
      "Info: on_underlying_io_bytes_received: closing underlying io.\n",
      "Info: on_underlying_io_close_complete: uws_state: 6.\n",
      "Info: on_underlying_io_bytes_received: Close frame received\n",
      "Info: on_underlying_io_bytes_received: closing underlying io.\n",
      "Info: on_underlying_io_close_complete: uws_state: 6.\n"
     ]
    }
   ],
   "source": [
    "recognizer = initialize_speech_service('../data/primock/day1_consultation01_doctor.wav') \n",
    "hypothesis_text = transcribe_continuous_audio_file(recognizer)"
   ]
  },
  {
   "cell_type": "code",
   "execution_count": 7,
   "metadata": {},
   "outputs": [
    {
     "data": {
      "text/plain": [
       "\"Hello. Hi. Yeah. OK. Hello. Good morning. So how can I help you this morning? Yeah, I'm sorry to hear that. And when you say diarrhoea, what do you mean by diarrhea? Do you mean you're going to the toilet more often or are your stools more loose? OK. And how many times a day are you going, let's say over the last couple of days? 6-7 times a day and you mentioned this mainly water tree. Have you noticed any other things like blood in your stools? OK. And you mentioned you've had some pain in your tummy as well. Whereabouts is the pain exactly? One side. And what side is that? That's right. OK. And can you describe the pain to me? OK. And there's a pain. Is that is it there all the time or does it come and go? Does the pain move anywhere else because on between your back? OK, fine. And you mentioned you've been feeling quite weak and shaky as well. What do you mean by shaky? Do you mean you've been having, have you been feeling feverish, for example? Measure your temperature then. OK OK. Any other symptoms like sweating or night? No. And any vomiting at all? You stop vomiting again and would you vomit? I know it's not nice thing to talk about but was it just normal food colour? Yeah. And there was no blood in your vomits, is that right? No. OK. And any other symptoms at all? So you mentioned the tummy pain, you mentioned diarrhea, you mentioned the vomiting. Anything else that comes to mind? OK. OK, so you're drinking fluids. What kind of foods have you managed to eat? Anything? OK, fine. And so we started three days ago. The symptoms, are you aware of any triggers which may have caused the symptoms to kick on? So for example, things like take away foods or eating out or being around other people who would similar symptoms? Thank you. Do you remember where you ate? OK anyone else unwell with similar symptoms? OK, OK, fine. Right. And in terms of your your overall health, are you normally fitting well or? OK. And did you asthma well controlled? And you don't have any other tummy problem? Bowel problems I should be aware of, no. OK. And apart from the inhalers, do you take any other medications? OK, fine. And in terms of just your your day-to-day life, you said it's been affecting your life. In what way has it been affecting your life? OK. Yeah. And have you are you currently working at the moment? Would work. OK. Have you been going into work the last three days? Have you been at home? OK, that must be difficult for you then. And you said, you mentioned you live with a wife and two children. Is that right? All right, just a couple of other questions we need to ask. Do you smoke at all? And do you drink much more of alcohol? OK, so. Normally at this stage I'd like to examine you if that's OK but but haven't listened to your stories. I think just to recap, for the last three days you've been having loose dual diarrhea, bit of tummy pain mainly on the left hand side and vomiting and feeling quite weak and lethargic. You mentioned you're having this Chinese take away as well three days ago and I wonder whether that might be the cause of your problems. It seems like you may have something. Called gastroenteritis. Which is essentially just the tummy bug or infection of your of your tummy. Mainly caused by viruses, but they can be a possibility of bacteria causing your symptoms. At this stage, what what we'd recommend is just what we say conservative management. So I don't think you need anything like antibiotics is really just making sure you're well hydrated, so drinking plenty of fluids. There are things like diolite you can get from the pharmacy which it's it helps replenish some of your minerals and vitamins. And if you are having vomiting and diarrhea, I would soon recommend that first, you know, first couple of days. If you are feeling feverish and weak, taking some paracetamol, 2 tablets up to four times a day for the first few days can also help. I'll certainly advise you to take some time at work. Actually I know you're quite keen to work. I would say next to two to three days as clears from your system. Take some time off from rest. You know, if your symptoms haven't got better, you know, in in three to four days, I'd like to come back and see you again. Because if it is ongoing, then we have to wonder whether there's something else causing symptoms and we may need to do further tests like taking a sample of your store so we can test that, etcetera, etcetera. How's that sound? Do you have any questions for me? OK. Is, is the treatment plan clear? Great. Well, I wish you all the best. Thank you. Bye. Bye. Bye.\""
      ]
     },
     "execution_count": 7,
     "metadata": {},
     "output_type": "execute_result"
    }
   ],
   "source": [
    "hypothesis_text"
   ]
  },
  {
   "cell_type": "markdown",
   "metadata": {},
   "source": [
    "## Set up Azure OpenAI"
   ]
  },
  {
   "cell_type": "code",
   "execution_count": 78,
   "metadata": {},
   "outputs": [],
   "source": [
    "# Set up OpenAI API key and endpoint\n",
    "openai_api_key = 'OPENAI_API_KEY'  # Replace with your API key\n",
    "openai_api_base = \"OPENAI_API_ENDPOINT\"  # Replace with your resource's URL"
   ]
  },
  {
   "cell_type": "code",
   "execution_count": 53,
   "metadata": {},
   "outputs": [],
   "source": [
    "from openai import AzureOpenAI\n",
    "\n",
    "# Set up Azure OpenAI client\n",
    "client = AzureOpenAI(\n",
    "    api_version=\"2024-02-01\", # Make sure to use the correct API version\n",
    "    api_key=openai_api_key,\n",
    "    azure_endpoint=openai_api_base,\n",
    ")"
   ]
  },
  {
   "cell_type": "markdown",
   "metadata": {},
   "source": [
    "### Generate Chapter Title by Parsing Text into GPT-35-Turbo"
   ]
  },
  {
   "cell_type": "markdown",
   "metadata": {},
   "source": [
    "GPT-35-Turbo is used for generating chapter title as it is the cheapest GPT model and it is sufficient for this function."
   ]
  },
  {
   "cell_type": "code",
   "execution_count": 61,
   "metadata": {},
   "outputs": [
    {
     "name": "stdout",
     "output_type": "stream",
     "text": [
      "Generated Chapter Title: Gastroenteritis Consultation\n"
     ]
    }
   ],
   "source": [
    "# Function to generate chapter titles using Azure OpenAI\n",
    "def generate_chapter_title_nb(text):\n",
    "    # The prompt asks for a brief summary suitable as a chapter title\n",
    "    messages = [\n",
    "        {\n",
    "            \"role\": \"system\",\n",
    "            \"content\": \"You are an assistant that generates concise chapter titles based on text.\"\n",
    "        },\n",
    "        {\n",
    "            \"role\": \"user\",\n",
    "            \"content\": f\"Generate a concise chapter title for the following text:\\n\\n{text}. Don't include a heading such as 'Chapter Title:'.\"\n",
    "        }\n",
    "    ]\n",
    "\n",
    "    # Request to the Azure OpenAI API using chat completions\n",
    "    completion = client.chat.completions.create(\n",
    "        model=\"gpt-4o-mini\",  # Replace with your Azure GPT model deployment name, e.g., 'gpt-35-turbo'\n",
    "        messages=messages,\n",
    "        max_tokens=20,  # Limit tokens for shorter, concise titles\n",
    "        temperature=0.7,  # Adjust to control creativity level\n",
    "        n=1,  # Number of responses\n",
    "    )\n",
    "\n",
    "    # Extract and return the generated title\n",
    "    title = completion.choices[0].message.content.strip()\n",
    "    return title\n",
    "\n",
    "# Generate a chapter title based on the transcribed text\n",
    "chapter_title = generate_chapter_title_nb(hypothesis_text)\n",
    "print(f\"Generated Chapter Title: {chapter_title}\")"
   ]
  },
  {
   "cell_type": "markdown",
   "metadata": {},
   "source": [
    "## Using Function from chaptertitle.py"
   ]
  },
  {
   "cell_type": "code",
   "execution_count": 55,
   "metadata": {},
   "outputs": [],
   "source": [
    "import sys\n",
    "\n",
    "sys.path.append(os.path.abspath('..'))\n",
    "from chaptertitle import generate_chapter_title"
   ]
  },
  {
   "cell_type": "code",
   "execution_count": 56,
   "metadata": {},
   "outputs": [],
   "source": [
    "document_text = \"\"\"\n",
    "In this chapter, we discuss the importance of data privacy in modern digital systems. \n",
    "We explore various encryption techniques and their roles in securing user data.\n",
    "\"\"\""
   ]
  },
  {
   "cell_type": "code",
   "execution_count": 63,
   "metadata": {},
   "outputs": [
    {
     "name": "stdout",
     "output_type": "stream",
     "text": [
      "Test Generate Chapter Title Function: \"Diagnosis and Treatment for Gastroenteritis\"\n"
     ]
    }
   ],
   "source": [
    "chapter_title_fn_test = generate_chapter_title(hypothesis_text, openai_api_key, openai_api_base)\n",
    "print(f\"Test Generate Chapter Title Function: {chapter_title_fn_test}\")"
   ]
  },
  {
   "cell_type": "code",
   "execution_count": 64,
   "metadata": {},
   "outputs": [
    {
     "name": "stdout",
     "output_type": "stream",
     "text": [
      "Test Generate Chapter Title Function: \"Data Privacy and Encryption in Modern Digital Systems\"\n"
     ]
    }
   ],
   "source": [
    "chapter_title_fn_test2 = generate_chapter_title(document_text, openai_api_key, openai_api_base)\n",
    "print(f\"Test Generate Chapter Title Function: {chapter_title_fn_test2}\")"
   ]
  }
 ],
 "metadata": {
  "kernelspec": {
   "display_name": "Python 3",
   "language": "python",
   "name": "python3"
  },
  "language_info": {
   "codemirror_mode": {
    "name": "ipython",
    "version": 3
   },
   "file_extension": ".py",
   "mimetype": "text/x-python",
   "name": "python",
   "nbconvert_exporter": "python",
   "pygments_lexer": "ipython3",
   "version": "3.10.13"
  }
 },
 "nbformat": 4,
 "nbformat_minor": 2
}
